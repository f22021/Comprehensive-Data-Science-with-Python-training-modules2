{
  "nbformat": 4,
  "nbformat_minor": 0,
  "metadata": {
    "colab": {
      "provenance": [],
      "toc_visible": true
    },
    "kernelspec": {
      "name": "python3",
      "display_name": "Python 3"
    },
    "language_info": {
      "name": "python"
    }
  },
  "cells": [
    {
      "cell_type": "markdown",
      "source": [
        "**Conditionals and Iterations**\n",
        "\n",
        "A conditional statement is one where an action is performed if a prespecified condition is satisfied and another or no action is performed if the condition is not satisfied.\n",
        "\n",
        "Conditional statements are an easy way to take different actions based on some condition being fulfilled or not.\n",
        "\n",
        "In Python, we use the *if* statement for the conditional statement.\n",
        "\n",
        "An iteration is a set of statement that is repeated multiple times.\n",
        "\n",
        "Iteration will repeat a set of code and perform some action multiple times.\n",
        "\n",
        "In Python, we use *for* statement for the iteration instruction.\n"
      ],
      "metadata": {
        "id": "4S5Hr58nHVDB"
      }
    },
    {
      "cell_type": "markdown",
      "source": [
        "**Advantages:**\n",
        "\n",
        "* Simplifies coding.\n",
        "\n",
        "* Readability.\n",
        "\n",
        "* Efficiency in memory utilization."
      ],
      "metadata": {
        "id": "P8h2hZekOnOU"
      }
    },
    {
      "cell_type": "code",
      "execution_count": null,
      "metadata": {
        "id": "LPUxRvlxuU1x"
      },
      "outputs": [],
      "source": [
        "#These are libraries that you should import if needed for your notebook.\n",
        "#import libraries\n",
        "import pandas as pd\n",
        "import seaborn as sns\n",
        "import numpy as np\n",
        "%matplotlib inline\n",
        "import matplotlib.pyplot as plots\n",
        "plots.style.use('fivethirtyeight')\n",
        "from google.colab import files"
      ]
    },
    {
      "cell_type": "markdown",
      "source": [
        "## Conditional Statements"
      ],
      "metadata": {
        "id": "LQePVcXOQgAm"
      }
    },
    {
      "cell_type": "markdown",
      "source": [
        "**if statement**"
      ],
      "metadata": {
        "id": "h8inKl58TKeN"
      }
    },
    {
      "cell_type": "code",
      "source": [
        "#Toss a coin.\n",
        "coin = np.random.choice(['heads','tails'])"
      ],
      "metadata": {
        "id": "fmthIGDsPlAz"
      },
      "execution_count": null,
      "outputs": []
    },
    {
      "cell_type": "code",
      "source": [
        "#what is the value of coin\n",
        "coin"
      ],
      "metadata": {
        "id": "DXt2LQkvQv-_",
        "colab": {
          "base_uri": "https://localhost:8080/",
          "height": 37
        },
        "outputId": "90b6aeff-afa1-47c3-fdee-37d6d57020c2"
      },
      "execution_count": null,
      "outputs": [
        {
          "output_type": "execute_result",
          "data": {
            "text/plain": [
              "'heads'"
            ],
            "application/vnd.google.colaboratory.intrinsic+json": {
              "type": "string"
            }
          },
          "metadata": {},
          "execution_count": 11
        }
      ]
    },
    {
      "cell_type": "code",
      "source": [
        "#If the coin lands on heads, Marike wins.\n",
        "if coin == 'heads':\n",
        "  print('Marike wins!')"
      ],
      "metadata": {
        "id": "1XEl9j3tfxu1",
        "colab": {
          "base_uri": "https://localhost:8080/"
        },
        "outputId": "66ec220b-d2df-4846-936b-43b32d5d84b4"
      },
      "execution_count": null,
      "outputs": [
        {
          "output_type": "stream",
          "name": "stdout",
          "text": [
            "Marike wins!\n"
          ]
        }
      ]
    },
    {
      "cell_type": "markdown",
      "source": [
        "**if-else statement**"
      ],
      "metadata": {
        "id": "K3ZmuKFif1Dx"
      }
    },
    {
      "cell_type": "code",
      "source": [
        "#If the coin lands on heads, Marike wins. If the coin lands on tail, Sunday wins.\n",
        "coin = 'heads'\n",
        "if coin == 'heads':\n",
        "  print('Marike wins!')\n",
        "else:\n",
        "  print('Sunday wins!')"
      ],
      "metadata": {
        "id": "Y5lHimcHQySQ",
        "colab": {
          "base_uri": "https://localhost:8080/"
        },
        "outputId": "8581f570-6534-46ea-d8c7-c1849b6fdc45"
      },
      "execution_count": null,
      "outputs": [
        {
          "output_type": "stream",
          "name": "stdout",
          "text": [
            "Marike wins!\n"
          ]
        }
      ]
    },
    {
      "cell_type": "code",
      "source": [
        "#let's put the toss and the conditional statement together\n",
        "coin = np.random.choice(['heads','tails'])\n",
        "if coin == 'heads':\n",
        "  print('Marike wins!')\n",
        "else:\n",
        "  print('Sunday wins!')"
      ],
      "metadata": {
        "id": "nuKOmGVyQ3ui",
        "colab": {
          "base_uri": "https://localhost:8080/"
        },
        "outputId": "ed7c8b5b-0fb2-4f3e-fdf3-51ac9c1e19d6"
      },
      "execution_count": null,
      "outputs": [
        {
          "output_type": "stream",
          "name": "stdout",
          "text": [
            "Sunday wins!\n"
          ]
        }
      ]
    },
    {
      "cell_type": "markdown",
      "source": [
        "Everytime we want to run the above code, we could just press run. This is tiring."
      ],
      "metadata": {
        "id": "RJatTGIXTEEB"
      }
    },
    {
      "cell_type": "markdown",
      "source": [
        "**if-elif-else statement**"
      ],
      "metadata": {
        "id": "goWrk_JiSSOM"
      }
    },
    {
      "cell_type": "code",
      "source": [
        "#generate a random number between 1 and 6 (inclusive). It's like rolling a dice.\n",
        "dice_throw = np.random.randint(1,7)\n",
        "dice_throw"
      ],
      "metadata": {
        "id": "-y7EhzkoRhOT",
        "colab": {
          "base_uri": "https://localhost:8080/"
        },
        "outputId": "ab615d5b-0a67-4e0c-e922-cd413a942c17"
      },
      "execution_count": null,
      "outputs": [
        {
          "output_type": "execute_result",
          "data": {
            "text/plain": [
              "1"
            ]
          },
          "metadata": {},
          "execution_count": 33
        }
      ]
    },
    {
      "cell_type": "code",
      "source": [
        "#let's create a conditional statement where if the random number is less than or equal to 3, Marike wins.\n",
        "#If the number is equal to 4 or 5, Kanshu wins.\n",
        "#If it is equal to 6, the Sunday wins.\n",
        "if dice_throw <= 3:\n",
        "  print('Marike wins!')\n",
        "elif dice_throw == 4 or dice_throw ==5:\n",
        "  print('Kanshu wins!')\n",
        "else:\n",
        "  print('Sunday wins!')"
      ],
      "metadata": {
        "id": "VqqxR7poSCj9",
        "colab": {
          "base_uri": "https://localhost:8080/"
        },
        "outputId": "dfe40bff-9c92-4423-ad27-398f8dfd6d65"
      },
      "execution_count": null,
      "outputs": [
        {
          "output_type": "stream",
          "name": "stdout",
          "text": [
            "Marike wins!\n"
          ]
        }
      ]
    },
    {
      "cell_type": "code",
      "source": [
        "#Let's put it all together\n",
        "dice_throw = np.random.randint(1,7)\n",
        "if dice_throw <= 3:\n",
        "  print('Marike wins!')\n",
        "elif dice_throw == 4 or dice_throw ==5:\n",
        "  print('Kanshu wins!')\n",
        "elif dice_throw == 6:\n",
        "  print('Sunday wins!')\n",
        "\n",
        "print(dice_throw)"
      ],
      "metadata": {
        "id": "UqXYXK5OSzgj",
        "colab": {
          "base_uri": "https://localhost:8080/"
        },
        "outputId": "f3dab992-2fb1-4a22-a5e0-57cbc1c34018"
      },
      "execution_count": null,
      "outputs": [
        {
          "output_type": "stream",
          "name": "stdout",
          "text": [
            "Marike wins!\n",
            "2\n"
          ]
        }
      ]
    },
    {
      "cell_type": "markdown",
      "source": [
        "**We could replace the last elif with else as a catch all condition, that must be run if no former conditions are fulfilled.**"
      ],
      "metadata": {
        "id": "iKZK28AITyya"
      }
    },
    {
      "cell_type": "code",
      "source": [
        "#Let's put it all together\n",
        "dice_throw = np.random.randint(1,7)\n",
        "if dice_throw <= 3:\n",
        "  print('Marike wins!')\n",
        "elif dice_throw == 4 or dice_throw ==5:\n",
        "  print('Kanshu wins!')\n",
        "else:\n",
        "  print('Sunday wins!')"
      ],
      "metadata": {
        "id": "vtzKR-d1T7Hy",
        "colab": {
          "base_uri": "https://localhost:8080/"
        },
        "outputId": "1eff68d3-dec6-4e38-b7ad-a2900d9cba77"
      },
      "execution_count": null,
      "outputs": [
        {
          "output_type": "stream",
          "name": "stdout",
          "text": [
            "Marike wins!\n"
          ]
        }
      ]
    },
    {
      "cell_type": "markdown",
      "source": [
        "**Everytime I want to run the code above, I click on the run button again and again. This is tiring.**"
      ],
      "metadata": {
        "id": "TphHlwO2TQ1T"
      }
    },
    {
      "cell_type": "markdown",
      "source": [
        "**Nested if statements**"
      ],
      "metadata": {
        "id": "lGfMPY7QgORO"
      }
    },
    {
      "cell_type": "code",
      "source": [
        "#Roll a dice. If the number is less than 3, Marike wins.\n",
        "#If greater than 3, then a coin is tossed and if the coin is heads, then Kanshu wins, else Sunday wins.\n",
        "\n",
        "dice_throw = np.random.randint(1,7)\n",
        "if dice_throw <= 3:\n",
        "  print('Marike wins!')\n",
        "else:\n",
        "  coin = np.random.choice(['heads','tails'])\n",
        "  if coin == 'heads':\n",
        "    print('Kanshu wins!')\n",
        "  else:\n",
        "    print('Sunday wins!')\n"
      ],
      "metadata": {
        "id": "0mVz81fegQt4"
      },
      "execution_count": null,
      "outputs": []
    },
    {
      "cell_type": "code",
      "source": [
        "dice_throw = np.random.randint(1,7)\n",
        "if dice_throw >= 4:\n",
        "  coin = np.random.choice(['heads','tails'])\n",
        "  if coin == 'heads':\n",
        "    print('Kanshu wins!')\n",
        "  else:\n",
        "    print('Sunday wins!')\n",
        "else:\n",
        "  print('Marike wins!')\n",
        "\n",
        "\n",
        "print(dice_throw)"
      ],
      "metadata": {
        "colab": {
          "base_uri": "https://localhost:8080/"
        },
        "id": "t6p6GHvPHcHA",
        "outputId": "6ad8ec00-c0d1-47c2-b09b-2dcd006401ca"
      },
      "execution_count": null,
      "outputs": [
        {
          "output_type": "stream",
          "name": "stdout",
          "text": [
            "Sunday wins!\n",
            "4\n"
          ]
        }
      ]
    },
    {
      "cell_type": "markdown",
      "source": [
        "## Iterations"
      ],
      "metadata": {
        "id": "d13-GN0sURiR"
      }
    },
    {
      "cell_type": "markdown",
      "source": [
        "Iterations allows us to repeat code multiple times.\n",
        "\n"
      ],
      "metadata": {
        "id": "nPYSpWYoUUY3"
      }
    },
    {
      "cell_type": "code",
      "source": [
        "#Remember np.arange(1,7)\n",
        "np.arange(1,7)"
      ],
      "metadata": {
        "id": "QW5Vr7MIU-h8",
        "colab": {
          "base_uri": "https://localhost:8080/"
        },
        "outputId": "8cc71156-aaa2-4254-9d57-9423e4776c6e"
      },
      "execution_count": null,
      "outputs": [
        {
          "output_type": "execute_result",
          "data": {
            "text/plain": [
              "array([1, 2, 3, 4, 5, 6])"
            ]
          },
          "metadata": {},
          "execution_count": 55
        }
      ]
    },
    {
      "cell_type": "code",
      "source": [
        "#Let's write a for statement\n",
        "for i in np.arange(1,7):\n",
        "  print(i)"
      ],
      "metadata": {
        "id": "ZAJvwR1AUgnz",
        "colab": {
          "base_uri": "https://localhost:8080/"
        },
        "outputId": "cc6b32dc-7bf0-47c5-ae9a-97a04df51a62"
      },
      "execution_count": null,
      "outputs": [
        {
          "output_type": "stream",
          "name": "stdout",
          "text": [
            "1\n",
            "2\n",
            "3\n",
            "4\n",
            "5\n",
            "6\n"
          ]
        }
      ]
    },
    {
      "cell_type": "code",
      "source": [
        "#what if we use np.arange(5,9)\n",
        "for i in np.arange(5,9):\n",
        "  print(i)"
      ],
      "metadata": {
        "id": "LgMVFs43VJ5D",
        "colab": {
          "base_uri": "https://localhost:8080/"
        },
        "outputId": "dac7e2a8-c387-4b30-cd99-d57b31e16157"
      },
      "execution_count": null,
      "outputs": [
        {
          "output_type": "stream",
          "name": "stdout",
          "text": [
            "5\n",
            "6\n",
            "7\n",
            "8\n"
          ]
        }
      ]
    },
    {
      "cell_type": "code",
      "source": [
        "#What if we put strings in the array\n",
        "for i in ['Sunday','Marike','Kanshu']:\n",
        "  print(i)"
      ],
      "metadata": {
        "id": "vrm2myE2VZ2O",
        "colab": {
          "base_uri": "https://localhost:8080/"
        },
        "outputId": "f78d3d0d-26ab-4c16-88b2-ede1a5752a47"
      },
      "execution_count": null,
      "outputs": [
        {
          "output_type": "stream",
          "name": "stdout",
          "text": [
            "Sunday\n",
            "Marike\n",
            "Kanshu\n"
          ]
        }
      ]
    },
    {
      "cell_type": "code",
      "source": [
        "#Let's generate multiple throws of dice\n",
        "np.random.randint(1,7,10)"
      ],
      "metadata": {
        "id": "X0k6jLXdWGWh",
        "colab": {
          "base_uri": "https://localhost:8080/"
        },
        "outputId": "84e12f36-06e5-4f95-a900-bbc59538f605"
      },
      "execution_count": null,
      "outputs": [
        {
          "output_type": "execute_result",
          "data": {
            "text/plain": [
              "array([2, 1, 4, 1, 6, 1, 5, 4, 5, 3])"
            ]
          },
          "metadata": {},
          "execution_count": 62
        }
      ]
    },
    {
      "cell_type": "code",
      "source": [
        "#Now we want to use these numbers to determine whether Marike, Kanshu or Sunday won based on the conditions given earlier\n",
        "throws = np.random.randint(1,7,10)\n",
        "for i in throws:\n",
        "  if i <= 3:\n",
        "    print('Marike wins!')\n",
        "  elif i == 4 or i ==5:\n",
        "    print('Kanshu wins!')\n",
        "  else:\n",
        "    print('Sunday wins!')"
      ],
      "metadata": {
        "id": "EBmS9YtmWa2g",
        "colab": {
          "base_uri": "https://localhost:8080/"
        },
        "outputId": "fd68b432-8856-42d6-b24f-7ca81b2a5121"
      },
      "execution_count": null,
      "outputs": [
        {
          "output_type": "stream",
          "name": "stdout",
          "text": [
            "Marike wins!\n",
            "Kanshu wins!\n",
            "Marike wins!\n",
            "Sunday wins!\n",
            "Kanshu wins!\n",
            "Marike wins!\n",
            "Kanshu wins!\n",
            "Marike wins!\n",
            "Marike wins!\n",
            "Marike wins!\n"
          ]
        }
      ]
    },
    {
      "cell_type": "code",
      "source": [
        "#Let's create an array with the results\n",
        "results = []\n",
        "throws = np.random.randint(1,7,10)\n",
        "for i in throws:\n",
        "  if i <= 3:\n",
        "    ans = 'Marike'\n",
        "  elif i == 4 or i ==5:\n",
        "    ans = 'Kanshu'\n",
        "  else:\n",
        "    ans = 'Sunday'\n",
        "\n",
        "  results.append(ans)\n",
        "\n",
        "print(results)"
      ],
      "metadata": {
        "id": "IE0Vy1C_W34v",
        "colab": {
          "base_uri": "https://localhost:8080/"
        },
        "outputId": "22aaf436-c183-40d0-a5b0-7c3724e0afab"
      },
      "execution_count": null,
      "outputs": [
        {
          "output_type": "stream",
          "name": "stdout",
          "text": [
            "['Marike', 'Kanshu', 'Kanshu', 'Marike', 'Marike', 'Sunday', 'Marike', 'Sunday', 'Sunday', 'Kanshu']\n"
          ]
        }
      ]
    },
    {
      "cell_type": "code",
      "source": [
        "#Let's make this neater\n"
      ],
      "metadata": {
        "id": "wCoDBtGTXT9D"
      },
      "execution_count": null,
      "outputs": []
    },
    {
      "cell_type": "code",
      "source": [
        "#how many times did Kanshu win\n",
        "results.count('Kanshu')"
      ],
      "metadata": {
        "id": "MyOL7SfYWjij",
        "colab": {
          "base_uri": "https://localhost:8080/"
        },
        "outputId": "288e4213-98c2-4d77-8e31-dab41db8dcdf"
      },
      "execution_count": null,
      "outputs": [
        {
          "output_type": "execute_result",
          "data": {
            "text/plain": [
              "3"
            ]
          },
          "metadata": {},
          "execution_count": 67
        }
      ]
    },
    {
      "cell_type": "code",
      "source": [
        "#how many times did Marike win\n",
        "#how many times did Sunday win\n",
        "[results.count('Marike'), results.count('Sunday')]\n"
      ],
      "metadata": {
        "id": "f9PgRsoCX3G1",
        "colab": {
          "base_uri": "https://localhost:8080/"
        },
        "outputId": "9673f7cd-8880-4809-cdf3-bfdf054a9b78"
      },
      "execution_count": null,
      "outputs": [
        {
          "output_type": "execute_result",
          "data": {
            "text/plain": [
              "[4, 3]"
            ]
          },
          "metadata": {},
          "execution_count": 69
        }
      ]
    },
    {
      "cell_type": "markdown",
      "source": [
        "**While loop basics**"
      ],
      "metadata": {
        "id": "rRN3XkCphAb3"
      }
    },
    {
      "cell_type": "code",
      "source": [
        "#i = 1. Run a loop such that while i is less than 5, print i\n",
        "i = 1\n",
        "while i < 5:\n",
        "  print(i)\n",
        "  i = i + 1"
      ],
      "metadata": {
        "id": "kwU9dPHZhGVw",
        "colab": {
          "base_uri": "https://localhost:8080/"
        },
        "outputId": "6b83c8d4-3f30-44e4-feca-619650002269"
      },
      "execution_count": null,
      "outputs": [
        {
          "output_type": "stream",
          "name": "stdout",
          "text": [
            "1\n",
            "2\n",
            "3\n",
            "4\n"
          ]
        }
      ]
    },
    {
      "cell_type": "code",
      "source": [
        "#Let's look at someone to decide whether they can vote or not. Voting age is 18.\n",
        "age = 1\n",
        "while age <21:\n",
        "  if age >= 18:\n",
        "    print('You can vote!')\n",
        "  else:\n",
        "    print('You cannot vote!')\n",
        "\n",
        "  age = age + 1"
      ],
      "metadata": {
        "colab": {
          "base_uri": "https://localhost:8080/"
        },
        "id": "9SZtbDrdOmmA",
        "outputId": "78f4dff5-6632-479e-e38b-e0419036e2ee"
      },
      "execution_count": null,
      "outputs": [
        {
          "output_type": "stream",
          "name": "stdout",
          "text": [
            "You cannot vote!\n",
            "You cannot vote!\n",
            "You cannot vote!\n",
            "You cannot vote!\n",
            "You cannot vote!\n",
            "You cannot vote!\n",
            "You cannot vote!\n",
            "You cannot vote!\n",
            "You cannot vote!\n",
            "You cannot vote!\n",
            "You cannot vote!\n",
            "You cannot vote!\n",
            "You cannot vote!\n",
            "You cannot vote!\n",
            "You cannot vote!\n",
            "You cannot vote!\n",
            "You cannot vote!\n",
            "You can vote!\n",
            "You can vote!\n",
            "You can vote!\n"
          ]
        }
      ]
    },
    {
      "cell_type": "markdown",
      "source": [
        "**break statement**\n"
      ],
      "metadata": {
        "id": "wyCrjqzohSZi"
      }
    },
    {
      "cell_type": "code",
      "source": [
        "#Let's see how we can exit a for loop\n",
        "for i in np.arange(1,10):\n",
        "  if i == 5:\n",
        "    break\n",
        "  print(i)"
      ],
      "metadata": {
        "id": "rXiRpnNThUDg",
        "colab": {
          "base_uri": "https://localhost:8080/"
        },
        "outputId": "986f04e2-8d33-4529-a8e2-96a8d919d19f"
      },
      "execution_count": null,
      "outputs": [
        {
          "output_type": "stream",
          "name": "stdout",
          "text": [
            "1\n",
            "2\n",
            "3\n",
            "4\n"
          ]
        }
      ]
    },
    {
      "cell_type": "markdown",
      "source": [
        "## Exercise"
      ],
      "metadata": {
        "id": "wbcr2sxhYZXl"
      }
    },
    {
      "cell_type": "markdown",
      "source": [
        "Suppose you toss a coin and throw a dice. If the coin lands on heads and the dice is less than or equal to 3, Kanshu wins. If the coin lands on heads and dice is greater than 3, Sunday win. If the coin lands on tails and the dice is equal to 1, Sunday wins. If the coin lands on tails and the dice is greater than or equal to 2, Marike win.\n",
        "\n",
        "Run the above simulation 100 times and count the number of times that each person wins."
      ],
      "metadata": {
        "id": "xnJhF8jrYffR"
      }
    }
  ]
}