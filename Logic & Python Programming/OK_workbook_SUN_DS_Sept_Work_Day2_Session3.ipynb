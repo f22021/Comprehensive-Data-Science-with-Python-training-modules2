{
  "nbformat": 4,
  "nbformat_minor": 0,
  "metadata": {
    "colab": {
      "provenance": [],
      "toc_visible": true
    },
    "kernelspec": {
      "name": "python3",
      "display_name": "Python 3"
    },
    "language_info": {
      "name": "python"
    }
  },
  "cells": [
    {
      "cell_type": "markdown",
      "source": [
        "**Function**\n",
        "\n",
        "A function allows us to repeat code and reuse it as necessary. It makes the code more simplified, useable and readable.\n"
      ],
      "metadata": {
        "id": "4S5Hr58nHVDB"
      }
    },
    {
      "cell_type": "markdown",
      "source": [
        "**Advantages:**\n",
        "\n",
        "* Simplifies coding.\n",
        "\n",
        "* Readability.\n",
        "\n",
        "* Efficiency in memory utilization."
      ],
      "metadata": {
        "id": "P8h2hZekOnOU"
      }
    },
    {
      "cell_type": "code",
      "execution_count": 1,
      "metadata": {
        "id": "LPUxRvlxuU1x"
      },
      "outputs": [],
      "source": [
        "#These are libraries that you should import if needed for your notebook.\n",
        "#import libraries\n",
        "import pandas as pd\n",
        "import seaborn as sns\n",
        "import numpy as np\n",
        "%matplotlib inline\n",
        "import matplotlib.pyplot as plots\n",
        "plots.style.use('fivethirtyeight')\n",
        "from google.colab import files"
      ]
    },
    {
      "cell_type": "markdown",
      "source": [
        "**Basic function**"
      ],
      "metadata": {
        "id": "k4R39_fsugHz"
      }
    },
    {
      "cell_type": "code",
      "source": [
        "#Define a function\n",
        "def greet():\n",
        "  print('Hello, World')"
      ],
      "metadata": {
        "id": "RgeI2Sheuh-i"
      },
      "execution_count": 2,
      "outputs": []
    },
    {
      "cell_type": "code",
      "source": [
        "#let's call a function\n",
        "greet()"
      ],
      "metadata": {
        "id": "0SiH3xvKukxo",
        "colab": {
          "base_uri": "https://localhost:8080/"
        },
        "outputId": "e8f29b55-a52d-40f3-b6ed-4d5f1bd259c6"
      },
      "execution_count": 5,
      "outputs": [
        {
          "output_type": "stream",
          "name": "stdout",
          "text": [
            "Hello, World\n"
          ]
        }
      ]
    },
    {
      "cell_type": "markdown",
      "source": [
        "**Function with one argument**"
      ],
      "metadata": {
        "id": "sG5keW5gurd2"
      }
    },
    {
      "cell_type": "code",
      "source": [
        "#simulate one throw of dice\n",
        "throw = np.random.randint(1,7)\n",
        "throw"
      ],
      "metadata": {
        "id": "EBmS9YtmWa2g",
        "colab": {
          "base_uri": "https://localhost:8080/"
        },
        "outputId": "0afb92a4-abf0-4dc6-deaf-2b1dd078f5bb"
      },
      "execution_count": 8,
      "outputs": [
        {
          "output_type": "execute_result",
          "data": {
            "text/plain": [
              "5"
            ]
          },
          "metadata": {},
          "execution_count": 8
        }
      ]
    },
    {
      "cell_type": "code",
      "source": [
        "#for the above random number, determine who won. Marike wins if throw = 1, Sunday wins if throw equals 2 or 3 and\n",
        "#Kanshu wins if throw equals 4, 5, 6\n",
        "if throw ==1:\n",
        "  print('Marike wins')\n",
        "elif throw == 2 or throw == 3:\n",
        "  print('Sunday wins')\n",
        "else:\n",
        "  print('Kanshu wins')"
      ],
      "metadata": {
        "id": "dXHlMZ-Tb4_5",
        "colab": {
          "base_uri": "https://localhost:8080/"
        },
        "outputId": "bf98e080-ac7c-4c17-a8e7-b4134b93c30f"
      },
      "execution_count": 9,
      "outputs": [
        {
          "output_type": "stream",
          "name": "stdout",
          "text": [
            "Kanshu wins\n"
          ]
        }
      ]
    },
    {
      "cell_type": "code",
      "source": [
        "#Suppose we want to simulate this 1000 times. We could create a function. Let's first create a function\n",
        "def winner(a):\n",
        "  if a ==1:\n",
        "    ans='Marike'\n",
        "  elif a == 2 or a == 3:\n",
        "    ans = 'Sunday'\n",
        "  else:\n",
        "    ans = 'Kanshu'\n",
        "\n",
        "  return ans"
      ],
      "metadata": {
        "id": "IE0Vy1C_W34v"
      },
      "execution_count": 11,
      "outputs": []
    },
    {
      "cell_type": "code",
      "source": [
        "#let's run the function for a dice outcome of 5\n",
        "winner(5)"
      ],
      "metadata": {
        "id": "1d1PatQFciWb",
        "colab": {
          "base_uri": "https://localhost:8080/",
          "height": 37
        },
        "outputId": "ce3b66b2-58c2-4376-e9c8-738628319983"
      },
      "execution_count": 15,
      "outputs": [
        {
          "output_type": "execute_result",
          "data": {
            "text/plain": [
              "'Kanshu'"
            ],
            "application/vnd.google.colaboratory.intrinsic+json": {
              "type": "string"
            }
          },
          "metadata": {},
          "execution_count": 15
        }
      ]
    },
    {
      "cell_type": "code",
      "source": [
        "#let's run the function for a dice outcome of 3\n",
        "winner(3)"
      ],
      "metadata": {
        "id": "8efH24GEc4cQ",
        "colab": {
          "base_uri": "https://localhost:8080/",
          "height": 37
        },
        "outputId": "ea81d393-e444-4e46-811e-ad0f62b67d93"
      },
      "execution_count": 16,
      "outputs": [
        {
          "output_type": "execute_result",
          "data": {
            "text/plain": [
              "'Sunday'"
            ],
            "application/vnd.google.colaboratory.intrinsic+json": {
              "type": "string"
            }
          },
          "metadata": {},
          "execution_count": 16
        }
      ]
    },
    {
      "cell_type": "markdown",
      "source": [
        "The function winner allows us to run the code underneath it multiple times, i.e., evertime we call the function. The above function took in one argument. A function can take in multiple arguments."
      ],
      "metadata": {
        "id": "BgZC5SJ5dCWJ"
      }
    },
    {
      "cell_type": "markdown",
      "source": [
        "**Functions with more than one argument**"
      ],
      "metadata": {
        "id": "toqxcAZawGq-"
      }
    },
    {
      "cell_type": "code",
      "source": [
        "#Let's create an array with names of participants\n",
        "participants = ['Marike','Sunday','Kanshu']"
      ],
      "metadata": {
        "id": "HnMLfCv3dIfN"
      },
      "execution_count": 17,
      "outputs": []
    },
    {
      "cell_type": "code",
      "source": [
        "#Let's create a function with two inputs.\n",
        "def winner(a,names):\n",
        "  if a ==1:\n",
        "    ans=names[0]\n",
        "  elif a == 2 or a == 3:\n",
        "    ans = names[1]\n",
        "  else:\n",
        "    ans = names[2]\n",
        "\n",
        "  return ans"
      ],
      "metadata": {
        "id": "wCoDBtGTXT9D"
      },
      "execution_count": 18,
      "outputs": []
    },
    {
      "cell_type": "code",
      "source": [
        "#Let's throw a dice and see who wins by calling the function\n",
        "throw = np.random.randint(1,7)\n",
        "[throw, winner(throw,participants)]"
      ],
      "metadata": {
        "id": "MyOL7SfYWjij",
        "colab": {
          "base_uri": "https://localhost:8080/"
        },
        "outputId": "c710e3a9-4ee7-4796-9213-d0f36c8bcabd"
      },
      "execution_count": 24,
      "outputs": [
        {
          "output_type": "execute_result",
          "data": {
            "text/plain": [
              "[6, 'Kanshu']"
            ]
          },
          "metadata": {},
          "execution_count": 24
        }
      ]
    },
    {
      "cell_type": "code",
      "source": [],
      "metadata": {
        "id": "r_snpmdewUR4"
      },
      "execution_count": null,
      "outputs": []
    },
    {
      "cell_type": "markdown",
      "source": [
        "**Function with two outputs**"
      ],
      "metadata": {
        "id": "ZJNmgOclwPnI"
      }
    },
    {
      "cell_type": "code",
      "source": [
        "#Let's create an array with two inputs and also two outputs\n",
        "def winner(a,names):\n",
        "  if a ==1:\n",
        "    ans=names[0]\n",
        "  elif a == 2 or a == 3:\n",
        "    ans = names[1]\n",
        "  else:\n",
        "    ans = names[2]\n",
        "\n",
        "  return [a,ans]"
      ],
      "metadata": {
        "id": "f9PgRsoCX3G1"
      },
      "execution_count": 28,
      "outputs": []
    },
    {
      "cell_type": "code",
      "source": [
        "#let's run the above function\n",
        "throw = np.random.randint(1,7)\n",
        "results = winner(throw,participants)\n",
        "results"
      ],
      "metadata": {
        "id": "19tUktTjedio",
        "colab": {
          "base_uri": "https://localhost:8080/"
        },
        "outputId": "2ea67f7b-d1da-4d73-9634-af13594ec80e"
      },
      "execution_count": 31,
      "outputs": [
        {
          "output_type": "execute_result",
          "data": {
            "text/plain": [
              "[2, 'Sunday']"
            ]
          },
          "metadata": {},
          "execution_count": 31
        }
      ]
    },
    {
      "cell_type": "markdown",
      "source": [
        "## Exercise"
      ],
      "metadata": {
        "id": "wbcr2sxhYZXl"
      }
    },
    {
      "cell_type": "markdown",
      "source": [
        "Suppose you toss a coin and throw a dice. If the coin lands on heads and the dice is less than or equal to 3, Kanshu wins. If the coin lands on heads and dice is greater than 3, Sunday win. If the coin lands on tails and the dice is equal to 1, Sunday wins. If the coin lands on tails and the dice is greater than or equal to 2, Marike win.\n",
        "\n",
        "Run the above simulation 1000 times and count the number of times that each person wins. Using functions to minimize code."
      ],
      "metadata": {
        "id": "xnJhF8jrYffR"
      }
    }
  ]
}