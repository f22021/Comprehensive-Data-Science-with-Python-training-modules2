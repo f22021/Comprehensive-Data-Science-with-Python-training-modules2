{
  "cells": [
    {
      "cell_type": "code",
      "execution_count": 1,
      "id": "cell-lec25-0",
      "metadata": {
        "id": "cell-lec25-0"
      },
      "outputs": [],
      "source": [
        "#These are libraries that you should import if needed for your notebook.\n",
        "#import libraries\n",
        "import pandas as pd\n",
        "import seaborn as sns\n",
        "import numpy as np\n",
        "%matplotlib inline\n",
        "import matplotlib.pyplot as plots\n",
        "plots.style.use('fivethirtyeight')\n",
        "from google.colab import files"
      ]
    },
    {
      "cell_type": "markdown",
      "source": [
        "##Center and Spread and the Normal Distribution"
      ],
      "metadata": {
        "id": "JhgY-JubaMyy"
      },
      "id": "JhgY-JubaMyy"
    },
    {
      "cell_type": "code",
      "execution_count": 4,
      "id": "cell-lec25-3",
      "metadata": {
        "id": "cell-lec25-3",
        "colab": {
          "base_uri": "https://localhost:8080/"
        },
        "outputId": "2ae58fa0-68dc-419b-fb38-9402080b3257"
      },
      "outputs": [
        {
          "output_type": "execute_result",
          "data": {
            "text/plain": [
              "array([2, 3, 3, 9])"
            ]
          },
          "metadata": {},
          "execution_count": 4
        }
      ],
      "source": [
        "#Let's create an array\n",
        "values = np.array([2,3,3,9])\n",
        "values"
      ]
    },
    {
      "cell_type": "code",
      "execution_count": 5,
      "id": "cell-lec25-5",
      "metadata": {
        "id": "cell-lec25-5",
        "colab": {
          "base_uri": "https://localhost:8080/"
        },
        "outputId": "8a538db8-9127-4d3b-e78a-69a7410ec9a6"
      },
      "outputs": [
        {
          "output_type": "execute_result",
          "data": {
            "text/plain": [
              "4.25"
            ]
          },
          "metadata": {},
          "execution_count": 5
        }
      ],
      "source": [
        "#mean or average\n",
        "values.mean()"
      ]
    },
    {
      "cell_type": "code",
      "source": [
        "np.average(values)"
      ],
      "metadata": {
        "colab": {
          "base_uri": "https://localhost:8080/"
        },
        "id": "xZhyjyAqtUd1",
        "outputId": "ea9a0f91-6f46-4e77-c638-132c12c7607a"
      },
      "id": "xZhyjyAqtUd1",
      "execution_count": 7,
      "outputs": [
        {
          "output_type": "execute_result",
          "data": {
            "text/plain": [
              "4.25"
            ]
          },
          "metadata": {},
          "execution_count": 7
        }
      ]
    },
    {
      "cell_type": "code",
      "source": [
        "sum(values)/len(values)"
      ],
      "metadata": {
        "colab": {
          "base_uri": "https://localhost:8080/"
        },
        "id": "e7pKA4W0tbb-",
        "outputId": "3b01c4b6-22ed-46a6-8cad-f90fd4f766bf"
      },
      "id": "e7pKA4W0tbb-",
      "execution_count": 8,
      "outputs": [
        {
          "output_type": "execute_result",
          "data": {
            "text/plain": [
              "4.25"
            ]
          },
          "metadata": {},
          "execution_count": 8
        }
      ]
    },
    {
      "cell_type": "code",
      "source": [
        "#Standard Deviations\n",
        "np.std(values)"
      ],
      "metadata": {
        "id": "fHv0cZbhDiGu",
        "colab": {
          "base_uri": "https://localhost:8080/"
        },
        "outputId": "3618e52e-e16f-4122-bd44-84e85e811ec8"
      },
      "id": "fHv0cZbhDiGu",
      "execution_count": 9,
      "outputs": [
        {
          "output_type": "execute_result",
          "data": {
            "text/plain": [
              "2.7726341266023544"
            ]
          },
          "metadata": {},
          "execution_count": 9
        }
      ]
    },
    {
      "cell_type": "markdown",
      "id": "cell-lec25-26",
      "metadata": {
        "id": "cell-lec25-26"
      },
      "source": [
        "## Chebyshev's Bounds ##"
      ]
    },
    {
      "cell_type": "markdown",
      "source": [
        "![image.png](data:image/png;base64,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)"
      ],
      "metadata": {
        "id": "2F4KdiR3bQO-"
      },
      "id": "2F4KdiR3bQO-"
    },
    {
      "cell_type": "code",
      "source": [
        "#upload the file baby.csv\n",
        "uploaded = files.upload()"
      ],
      "metadata": {
        "id": "a_Ap0lH0Edsi",
        "colab": {
          "base_uri": "https://localhost:8080/",
          "height": 77
        },
        "outputId": "42625291-3f7c-4ce3-d739-fcf186488eda"
      },
      "id": "a_Ap0lH0Edsi",
      "execution_count": 10,
      "outputs": [
        {
          "output_type": "display_data",
          "data": {
            "text/plain": [
              "<IPython.core.display.HTML object>"
            ],
            "text/html": [
              "\n",
              "     <input type=\"file\" id=\"files-38a33047-4b1d-4214-81b8-9c1822a598c8\" name=\"files[]\" multiple disabled\n",
              "        style=\"border:none\" />\n",
              "     <output id=\"result-38a33047-4b1d-4214-81b8-9c1822a598c8\">\n",
              "      Upload widget is only available when the cell has been executed in the\n",
              "      current browser session. Please rerun this cell to enable.\n",
              "      </output>\n",
              "      <script>// Copyright 2017 Google LLC\n",
              "//\n",
              "// Licensed under the Apache License, Version 2.0 (the \"License\");\n",
              "// you may not use this file except in compliance with the License.\n",
              "// You may obtain a copy of the License at\n",
              "//\n",
              "//      http://www.apache.org/licenses/LICENSE-2.0\n",
              "//\n",
              "// Unless required by applicable law or agreed to in writing, software\n",
              "// distributed under the License is distributed on an \"AS IS\" BASIS,\n",
              "// WITHOUT WARRANTIES OR CONDITIONS OF ANY KIND, either express or implied.\n",
              "// See the License for the specific language governing permissions and\n",
              "// limitations under the License.\n",
              "\n",
              "/**\n",
              " * @fileoverview Helpers for google.colab Python module.\n",
              " */\n",
              "(function(scope) {\n",
              "function span(text, styleAttributes = {}) {\n",
              "  const element = document.createElement('span');\n",
              "  element.textContent = text;\n",
              "  for (const key of Object.keys(styleAttributes)) {\n",
              "    element.style[key] = styleAttributes[key];\n",
              "  }\n",
              "  return element;\n",
              "}\n",
              "\n",
              "// Max number of bytes which will be uploaded at a time.\n",
              "const MAX_PAYLOAD_SIZE = 100 * 1024;\n",
              "\n",
              "function _uploadFiles(inputId, outputId) {\n",
              "  const steps = uploadFilesStep(inputId, outputId);\n",
              "  const outputElement = document.getElementById(outputId);\n",
              "  // Cache steps on the outputElement to make it available for the next call\n",
              "  // to uploadFilesContinue from Python.\n",
              "  outputElement.steps = steps;\n",
              "\n",
              "  return _uploadFilesContinue(outputId);\n",
              "}\n",
              "\n",
              "// This is roughly an async generator (not supported in the browser yet),\n",
              "// where there are multiple asynchronous steps and the Python side is going\n",
              "// to poll for completion of each step.\n",
              "// This uses a Promise to block the python side on completion of each step,\n",
              "// then passes the result of the previous step as the input to the next step.\n",
              "function _uploadFilesContinue(outputId) {\n",
              "  const outputElement = document.getElementById(outputId);\n",
              "  const steps = outputElement.steps;\n",
              "\n",
              "  const next = steps.next(outputElement.lastPromiseValue);\n",
              "  return Promise.resolve(next.value.promise).then((value) => {\n",
              "    // Cache the last promise value to make it available to the next\n",
              "    // step of the generator.\n",
              "    outputElement.lastPromiseValue = value;\n",
              "    return next.value.response;\n",
              "  });\n",
              "}\n",
              "\n",
              "/**\n",
              " * Generator function which is called between each async step of the upload\n",
              " * process.\n",
              " * @param {string} inputId Element ID of the input file picker element.\n",
              " * @param {string} outputId Element ID of the output display.\n",
              " * @return {!Iterable<!Object>} Iterable of next steps.\n",
              " */\n",
              "function* uploadFilesStep(inputId, outputId) {\n",
              "  const inputElement = document.getElementById(inputId);\n",
              "  inputElement.disabled = false;\n",
              "\n",
              "  const outputElement = document.getElementById(outputId);\n",
              "  outputElement.innerHTML = '';\n",
              "\n",
              "  const pickedPromise = new Promise((resolve) => {\n",
              "    inputElement.addEventListener('change', (e) => {\n",
              "      resolve(e.target.files);\n",
              "    });\n",
              "  });\n",
              "\n",
              "  const cancel = document.createElement('button');\n",
              "  inputElement.parentElement.appendChild(cancel);\n",
              "  cancel.textContent = 'Cancel upload';\n",
              "  const cancelPromise = new Promise((resolve) => {\n",
              "    cancel.onclick = () => {\n",
              "      resolve(null);\n",
              "    };\n",
              "  });\n",
              "\n",
              "  // Wait for the user to pick the files.\n",
              "  const files = yield {\n",
              "    promise: Promise.race([pickedPromise, cancelPromise]),\n",
              "    response: {\n",
              "      action: 'starting',\n",
              "    }\n",
              "  };\n",
              "\n",
              "  cancel.remove();\n",
              "\n",
              "  // Disable the input element since further picks are not allowed.\n",
              "  inputElement.disabled = true;\n",
              "\n",
              "  if (!files) {\n",
              "    return {\n",
              "      response: {\n",
              "        action: 'complete',\n",
              "      }\n",
              "    };\n",
              "  }\n",
              "\n",
              "  for (const file of files) {\n",
              "    const li = document.createElement('li');\n",
              "    li.append(span(file.name, {fontWeight: 'bold'}));\n",
              "    li.append(span(\n",
              "        `(${file.type || 'n/a'}) - ${file.size} bytes, ` +\n",
              "        `last modified: ${\n",
              "            file.lastModifiedDate ? file.lastModifiedDate.toLocaleDateString() :\n",
              "                                    'n/a'} - `));\n",
              "    const percent = span('0% done');\n",
              "    li.appendChild(percent);\n",
              "\n",
              "    outputElement.appendChild(li);\n",
              "\n",
              "    const fileDataPromise = new Promise((resolve) => {\n",
              "      const reader = new FileReader();\n",
              "      reader.onload = (e) => {\n",
              "        resolve(e.target.result);\n",
              "      };\n",
              "      reader.readAsArrayBuffer(file);\n",
              "    });\n",
              "    // Wait for the data to be ready.\n",
              "    let fileData = yield {\n",
              "      promise: fileDataPromise,\n",
              "      response: {\n",
              "        action: 'continue',\n",
              "      }\n",
              "    };\n",
              "\n",
              "    // Use a chunked sending to avoid message size limits. See b/62115660.\n",
              "    let position = 0;\n",
              "    do {\n",
              "      const length = Math.min(fileData.byteLength - position, MAX_PAYLOAD_SIZE);\n",
              "      const chunk = new Uint8Array(fileData, position, length);\n",
              "      position += length;\n",
              "\n",
              "      const base64 = btoa(String.fromCharCode.apply(null, chunk));\n",
              "      yield {\n",
              "        response: {\n",
              "          action: 'append',\n",
              "          file: file.name,\n",
              "          data: base64,\n",
              "        },\n",
              "      };\n",
              "\n",
              "      let percentDone = fileData.byteLength === 0 ?\n",
              "          100 :\n",
              "          Math.round((position / fileData.byteLength) * 100);\n",
              "      percent.textContent = `${percentDone}% done`;\n",
              "\n",
              "    } while (position < fileData.byteLength);\n",
              "  }\n",
              "\n",
              "  // All done.\n",
              "  yield {\n",
              "    response: {\n",
              "      action: 'complete',\n",
              "    }\n",
              "  };\n",
              "}\n",
              "\n",
              "scope.google = scope.google || {};\n",
              "scope.google.colab = scope.google.colab || {};\n",
              "scope.google.colab._files = {\n",
              "  _uploadFiles,\n",
              "  _uploadFilesContinue,\n",
              "};\n",
              "})(self);\n",
              "</script> "
            ]
          },
          "metadata": {}
        },
        {
          "output_type": "stream",
          "name": "stdout",
          "text": [
            "Saving baby.csv to baby.csv\n"
          ]
        }
      ]
    },
    {
      "cell_type": "code",
      "execution_count": 12,
      "id": "cell-lec25-27",
      "metadata": {
        "id": "cell-lec25-27"
      },
      "outputs": [],
      "source": [
        "births = pd.read_csv('baby.csv')\n",
        "births = births.drop(columns = ['Maternal Smoker'])"
      ]
    },
    {
      "cell_type": "code",
      "execution_count": 14,
      "id": "cell-lec25-28",
      "metadata": {
        "id": "cell-lec25-28",
        "colab": {
          "base_uri": "https://localhost:8080/"
        },
        "outputId": "91e20db3-44ef-4b4f-f202-c2961eeccea3"
      },
      "outputs": [
        {
          "output_type": "execute_result",
          "data": {
            "text/plain": [
              "Index(['Birth Weight', 'Gestational Days', 'Maternal Age', 'Maternal Height',\n",
              "       'Maternal Pregnancy Weight'],\n",
              "      dtype='object')"
            ]
          },
          "metadata": {},
          "execution_count": 14
        }
      ],
      "source": [
        "births.columns"
      ]
    },
    {
      "cell_type": "code",
      "execution_count": 17,
      "id": "cell-lec25-29",
      "metadata": {
        "id": "cell-lec25-29",
        "colab": {
          "base_uri": "https://localhost:8080/",
          "height": 907
        },
        "outputId": "66a450d8-e1c6-457b-83ec-72597a7fcbec"
      },
      "outputs": [
        {
          "output_type": "execute_result",
          "data": {
            "text/plain": [
              "<function matplotlib.pyplot.show(close=None, block=None)>"
            ],
            "text/html": [
              "<div style=\"max-width:800px; border: 1px solid var(--colab-border-color);\"><style>\n",
              "      pre.function-repr-contents {\n",
              "        overflow-x: auto;\n",
              "        padding: 8px 12px;\n",
              "        max-height: 500px;\n",
              "      }\n",
              "\n",
              "      pre.function-repr-contents.function-repr-contents-collapsed {\n",
              "        cursor: pointer;\n",
              "        max-height: 100px;\n",
              "      }\n",
              "    </style>\n",
              "    <pre style=\"white-space: initial; background:\n",
              "         var(--colab-secondary-surface-color); padding: 8px 12px;\n",
              "         border-bottom: 1px solid var(--colab-border-color);\"><b>matplotlib.pyplot.show</b><br/>def show(*args, **kwargs)</pre><pre class=\"function-repr-contents function-repr-contents-collapsed\" style=\"\"><a class=\"filepath\" style=\"display:none\" href=\"#\">/usr/local/lib/python3.10/dist-packages/matplotlib/pyplot.py</a>Display all open figures.\n",
              "\n",
              "Parameters\n",
              "----------\n",
              "block : bool, optional\n",
              "    Whether to wait for all figures to be closed before returning.\n",
              "\n",
              "    If `True` block and run the GUI main loop until all figure windows\n",
              "    are closed.\n",
              "\n",
              "    If `False` ensure that all figure windows are displayed and return\n",
              "    immediately.  In this case, you are responsible for ensuring\n",
              "    that the event loop is running to have responsive figures.\n",
              "\n",
              "    Defaults to True in non-interactive mode and to False in interactive\n",
              "    mode (see `.pyplot.isinteractive`).\n",
              "\n",
              "See Also\n",
              "--------\n",
              "ion : Enable interactive mode, which shows / updates the figure after\n",
              "      every plotting command, so that calling ``show()`` is not necessary.\n",
              "ioff : Disable interactive mode.\n",
              "savefig : Save the figure to an image file instead of showing it on screen.\n",
              "\n",
              "Notes\n",
              "-----\n",
              "**Saving figures to file and showing a window at the same time**\n",
              "\n",
              "If you want an image file as well as a user interface window, use\n",
              "`.pyplot.savefig` before `.pyplot.show`. At the end of (a blocking)\n",
              "``show()`` the figure is closed and thus unregistered from pyplot. Calling\n",
              "`.pyplot.savefig` afterwards would save a new and thus empty figure. This\n",
              "limitation of command order does not apply if the show is non-blocking or\n",
              "if you keep a reference to the figure and use `.Figure.savefig`.\n",
              "\n",
              "**Auto-show in jupyter notebooks**\n",
              "\n",
              "The jupyter backends (activated via ``%matplotlib inline``,\n",
              "``%matplotlib notebook``, or ``%matplotlib widget``), call ``show()`` at\n",
              "the end of every cell by default. Thus, you usually don&#x27;t have to call it\n",
              "explicitly there.</pre>\n",
              "      <script>\n",
              "      if (google.colab.kernel.accessAllowed && google.colab.files && google.colab.files.view) {\n",
              "        for (const element of document.querySelectorAll('.filepath')) {\n",
              "          element.style.display = 'block'\n",
              "          element.onclick = (event) => {\n",
              "            event.preventDefault();\n",
              "            event.stopPropagation();\n",
              "            google.colab.files.view(element.textContent, 401);\n",
              "          };\n",
              "        }\n",
              "      }\n",
              "      for (const element of document.querySelectorAll('.function-repr-contents')) {\n",
              "        element.onclick = (event) => {\n",
              "          event.preventDefault();\n",
              "          event.stopPropagation();\n",
              "          element.classList.toggle('function-repr-contents-collapsed');\n",
              "        };\n",
              "      }\n",
              "      </script>\n",
              "      </div>"
            ]
          },
          "metadata": {},
          "execution_count": 17
        },
        {
          "output_type": "display_data",
          "data": {
            "text/plain": [
              "<Figure size 1000x800 with 6 Axes>"
            ],
            "image/png": "[encoded data removed]"
          },
          "metadata": {}
        }
      ],
      "source": [
        "births.hist(bins=10, figsize=(10,8), grid = False)\n",
        "plots.show"
      ]
    },
    {
      "cell_type": "code",
      "execution_count": 18,
      "id": "cell-lec25-30",
      "metadata": {
        "id": "cell-lec25-30",
        "colab": {
          "base_uri": "https://localhost:8080/"
        },
        "outputId": "a842302c-1875-454f-a2d7-6de6826706ef"
      },
      "outputs": [
        {
          "output_type": "execute_result",
          "data": {
            "text/plain": [
              "(128.4787052810903, 20.72544970428041)"
            ]
          },
          "metadata": {},
          "execution_count": 18
        }
      ],
      "source": [
        "# Extract the 'Maternal Pregnancy Weight' column\n",
        "mpw = births['Maternal Pregnancy Weight']\n",
        "\n",
        "# Calculate the mean and standard deviation\n",
        "ave = np.mean(mpw)\n",
        "sd = np.std(mpw)\n",
        "\n",
        "ave, sd"
      ]
    },
    {
      "cell_type": "code",
      "execution_count": 19,
      "id": "cell-lec25-31",
      "metadata": {
        "id": "cell-lec25-31",
        "colab": {
          "base_uri": "https://localhost:8080/",
          "height": 423
        },
        "outputId": "6a671f61-85db-4225-bb4e-2b15d66da393"
      },
      "outputs": [
        {
          "output_type": "execute_result",
          "data": {
            "text/plain": [
              "      Birth Weight  Gestational Days  Maternal Age  Maternal Height  \\\n",
              "0              120               284            27               62   \n",
              "1              113               282            33               64   \n",
              "2              128               279            28               64   \n",
              "3              108               282            23               67   \n",
              "4              136               286            25               62   \n",
              "...            ...               ...           ...              ...   \n",
              "1169           113               275            27               60   \n",
              "1170           128               265            24               67   \n",
              "1171           130               291            30               65   \n",
              "1172           125               281            21               65   \n",
              "1173           117               297            38               65   \n",
              "\n",
              "      Maternal Pregnancy Weight  \n",
              "0                           100  \n",
              "1                           135  \n",
              "2                           115  \n",
              "3                           125  \n",
              "4                            93  \n",
              "...                         ...  \n",
              "1169                        100  \n",
              "1170                        120  \n",
              "1171                        150  \n",
              "1172                        110  \n",
              "1173                        129  \n",
              "\n",
              "[1158 rows x 5 columns]"
            ],
            "text/html": [
              "\n",
              "  <div id=\"df-befcaf2f-4ab0-47e2-b400-03bd1a6f229a\" class=\"colab-df-container\">\n",
              "    <div>\n",
              "<style scoped>\n",
              "    .dataframe tbody tr th:only-of-type {\n",
              "        vertical-align: middle;\n",
              "    }\n",
              "\n",
              "    .dataframe tbody tr th {\n",
              "        vertical-align: top;\n",
              "    }\n",
              "\n",
              "    .dataframe thead th {\n",
              "        text-align: right;\n",
              "    }\n",
              "</style>\n",
              "<table border=\"1\" class=\"dataframe\">\n",
              "  <thead>\n",
              "    <tr style=\"text-align: right;\">\n",
              "      <th></th>\n",
              "      <th>Birth Weight</th>\n",
              "      <th>Gestational Days</th>\n",
              "      <th>Maternal Age</th>\n",
              "      <th>Maternal Height</th>\n",
              "      <th>Maternal Pregnancy Weight</th>\n",
              "    </tr>\n",
              "  </thead>\n",
              "  <tbody>\n",
              "    <tr>\n",
              "      <th>0</th>\n",
              "      <td>120</td>\n",
              "      <td>284</td>\n",
              "      <td>27</td>\n",
              "      <td>62</td>\n",
              "      <td>100</td>\n",
              "    </tr>\n",
              "    <tr>\n",
              "      <th>1</th>\n",
              "      <td>113</td>\n",
              "      <td>282</td>\n",
              "      <td>33</td>\n",
              "      <td>64</td>\n",
              "      <td>135</td>\n",
              "    </tr>\n",
              "    <tr>\n",
              "      <th>2</th>\n",
              "      <td>128</td>\n",
              "      <td>279</td>\n",
              "      <td>28</td>\n",
              "      <td>64</td>\n",
              "      <td>115</td>\n",
              "    </tr>\n",
              "    <tr>\n",
              "      <th>3</th>\n",
              "      <td>108</td>\n",
              "      <td>282</td>\n",
              "      <td>23</td>\n",
              "      <td>67</td>\n",
              "      <td>125</td>\n",
              "    </tr>\n",
              "    <tr>\n",
              "      <th>4</th>\n",
              "      <td>136</td>\n",
              "      <td>286</td>\n",
              "      <td>25</td>\n",
              "      <td>62</td>\n",
              "      <td>93</td>\n",
              "    </tr>\n",
              "    <tr>\n",
              "      <th>...</th>\n",
              "      <td>...</td>\n",
              "      <td>...</td>\n",
              "      <td>...</td>\n",
              "      <td>...</td>\n",
              "      <td>...</td>\n",
              "    </tr>\n",
              "    <tr>\n",
              "      <th>1169</th>\n",
              "      <td>113</td>\n",
              "      <td>275</td>\n",
              "      <td>27</td>\n",
              "      <td>60</td>\n",
              "      <td>100</td>\n",
              "    </tr>\n",
              "    <tr>\n",
              "      <th>1170</th>\n",
              "      <td>128</td>\n",
              "      <td>265</td>\n",
              "      <td>24</td>\n",
              "      <td>67</td>\n",
              "      <td>120</td>\n",
              "    </tr>\n",
              "    <tr>\n",
              "      <th>1171</th>\n",
              "      <td>130</td>\n",
              "      <td>291</td>\n",
              "      <td>30</td>\n",
              "      <td>65</td>\n",
              "      <td>150</td>\n",
              "    </tr>\n",
              "    <tr>\n",
              "      <th>1172</th>\n",
              "      <td>125</td>\n",
              "      <td>281</td>\n",
              "      <td>21</td>\n",
              "      <td>65</td>\n",
              "      <td>110</td>\n",
              "    </tr>\n",
              "    <tr>\n",
              "      <th>1173</th>\n",
              "      <td>117</td>\n",
              "      <td>297</td>\n",
              "      <td>38</td>\n",
              "      <td>65</td>\n",
              "      <td>129</td>\n",
              "    </tr>\n",
              "  </tbody>\n",
              "</table>\n",
              "<p>1158 rows × 5 columns</p>\n",
              "</div>\n",
              "    <div class=\"colab-df-buttons\">\n",
              "\n",
              "  <div class=\"colab-df-container\">\n",
              "    <button class=\"colab-df-convert\" onclick=\"convertToInteractive('df-befcaf2f-4ab0-47e2-b400-03bd1a6f229a')\"\n",
              "            title=\"Convert this dataframe to an interactive table.\"\n",
              "            style=\"display:none;\">\n",
              "\n",
              "  <svg xmlns=\"http://www.w3.org/2000/svg\" height=\"24px\" viewBox=\"0 -960 960 960\">\n",
              "    <path d=\"M120-120v-720h720v720H120Zm60-500h600v-160H180v160Zm220 220h160v-160H400v160Zm0 220h160v-160H400v160ZM180-400h160v-160H180v160Zm440 0h160v-160H620v160ZM180-180h160v-160H180v160Zm440 0h160v-160H620v160Z\"/>\n",
              "  </svg>\n",
              "    </button>\n",
              "\n",
              "  <style>\n",
              "    .colab-df-container {\n",
              "      display:flex;\n",
              "      gap: 12px;\n",
              "    }\n",
              "\n",
              "    .colab-df-convert {\n",
              "      background-color: #E8F0FE;\n",
              "      border: none;\n",
              "      border-radius: 50%;\n",
              "      cursor: pointer;\n",
              "      display: none;\n",
              "      fill: #1967D2;\n",
              "      height: 32px;\n",
              "      padding: 0 0 0 0;\n",
              "      width: 32px;\n",
              "    }\n",
              "\n",
              "    .colab-df-convert:hover {\n",
              "      background-color: #E2EBFA;\n",
              "      box-shadow: 0px 1px 2px rgba(60, 64, 67, 0.3), 0px 1px 3px 1px rgba(60, 64, 67, 0.15);\n",
              "      fill: #174EA6;\n",
              "    }\n",
              "\n",
              "    .colab-df-buttons div {\n",
              "      margin-bottom: 4px;\n",
              "    }\n",
              "\n",
              "    [theme=dark] .colab-df-convert {\n",
              "      background-color: #3B4455;\n",
              "      fill: #D2E3FC;\n",
              "    }\n",
              "\n",
              "    [theme=dark] .colab-df-convert:hover {\n",
              "      background-color: #434B5C;\n",
              "      box-shadow: 0px 1px 3px 1px rgba(0, 0, 0, 0.15);\n",
              "      filter: drop-shadow(0px 1px 2px rgba(0, 0, 0, 0.3));\n",
              "      fill: #FFFFFF;\n",
              "    }\n",
              "  </style>\n",
              "\n",
              "    <script>\n",
              "      const buttonEl =\n",
              "        document.querySelector('#df-befcaf2f-4ab0-47e2-b400-03bd1a6f229a button.colab-df-convert');\n",
              "      buttonEl.style.display =\n",
              "        google.colab.kernel.accessAllowed ? 'block' : 'none';\n",
              "\n",
              "      async function convertToInteractive(key) {\n",
              "        const element = document.querySelector('#df-befcaf2f-4ab0-47e2-b400-03bd1a6f229a');\n",
              "        const dataTable =\n",
              "          await google.colab.kernel.invokeFunction('convertToInteractive',\n",
              "                                                    [key], {});\n",
              "        if (!dataTable) return;\n",
              "\n",
              "        const docLinkHtml = 'Like what you see? Visit the ' +\n",
              "          '<a target=\"_blank\" href=https://colab.research.google.com/notebooks/data_table.ipynb>data table notebook</a>'\n",
              "          + ' to learn more about interactive tables.';\n",
              "        element.innerHTML = '';\n",
              "        dataTable['output_type'] = 'display_data';\n",
              "        await google.colab.output.renderOutput(dataTable, element);\n",
              "        const docLink = document.createElement('div');\n",
              "        docLink.innerHTML = docLinkHtml;\n",
              "        element.appendChild(docLink);\n",
              "      }\n",
              "    </script>\n",
              "  </div>\n",
              "\n",
              "\n",
              "<div id=\"df-d50a9b88-5cd1-420c-9ae9-d4f8bfae0fee\">\n",
              "  <button class=\"colab-df-quickchart\" onclick=\"quickchart('df-d50a9b88-5cd1-420c-9ae9-d4f8bfae0fee')\"\n",
              "            title=\"Suggest charts\"\n",
              "            style=\"display:none;\">\n",
              "\n",
              "<svg xmlns=\"http://www.w3.org/2000/svg\" height=\"24px\"viewBox=\"0 0 24 24\"\n",
              "     width=\"24px\">\n",
              "    <g>\n",
              "        <path d=\"M19 3H5c-1.1 0-2 .9-2 2v14c0 1.1.9 2 2 2h14c1.1 0 2-.9 2-2V5c0-1.1-.9-2-2-2zM9 17H7v-7h2v7zm4 0h-2V7h2v10zm4 0h-2v-4h2v4z\"/>\n",
              "    </g>\n",
              "</svg>\n",
              "  </button>\n",
              "\n",
              "<style>\n",
              "  .colab-df-quickchart {\n",
              "      --bg-color: #E8F0FE;\n",
              "      --fill-color: #1967D2;\n",
              "      --hover-bg-color: #E2EBFA;\n",
              "      --hover-fill-color: #174EA6;\n",
              "      --disabled-fill-color: #AAA;\n",
              "      --disabled-bg-color: #DDD;\n",
              "  }\n",
              "\n",
              "  [theme=dark] .colab-df-quickchart {\n",
              "      --bg-color: #3B4455;\n",
              "      --fill-color: #D2E3FC;\n",
              "      --hover-bg-color: #434B5C;\n",
              "      --hover-fill-color: #FFFFFF;\n",
              "      --disabled-bg-color: #3B4455;\n",
              "      --disabled-fill-color: #666;\n",
              "  }\n",
              "\n",
              "  .colab-df-quickchart {\n",
              "    background-color: var(--bg-color);\n",
              "    border: none;\n",
              "    border-radius: 50%;\n",
              "    cursor: pointer;\n",
              "    display: none;\n",
              "    fill: var(--fill-color);\n",
              "    height: 32px;\n",
              "    padding: 0;\n",
              "    width: 32px;\n",
              "  }\n",
              "\n",
              "  .colab-df-quickchart:hover {\n",
              "    background-color: var(--hover-bg-color);\n",
              "    box-shadow: 0 1px 2px rgba(60, 64, 67, 0.3), 0 1px 3px 1px rgba(60, 64, 67, 0.15);\n",
              "    fill: var(--button-hover-fill-color);\n",
              "  }\n",
              "\n",
              "  .colab-df-quickchart-complete:disabled,\n",
              "  .colab-df-quickchart-complete:disabled:hover {\n",
              "    background-color: var(--disabled-bg-color);\n",
              "    fill: var(--disabled-fill-color);\n",
              "    box-shadow: none;\n",
              "  }\n",
              "\n",
              "  .colab-df-spinner {\n",
              "    border: 2px solid var(--fill-color);\n",
              "    border-color: transparent;\n",
              "    border-bottom-color: var(--fill-color);\n",
              "    animation:\n",
              "      spin 1s steps(1) infinite;\n",
              "  }\n",
              "\n",
              "  @keyframes spin {\n",
              "    0% {\n",
              "      border-color: transparent;\n",
              "      border-bottom-color: var(--fill-color);\n",
              "      border-left-color: var(--fill-color);\n",
              "    }\n",
              "    20% {\n",
              "      border-color: transparent;\n",
              "      border-left-color: var(--fill-color);\n",
              "      border-top-color: var(--fill-color);\n",
              "    }\n",
              "    30% {\n",
              "      border-color: transparent;\n",
              "      border-left-color: var(--fill-color);\n",
              "      border-top-color: var(--fill-color);\n",
              "      border-right-color: var(--fill-color);\n",
              "    }\n",
              "    40% {\n",
              "      border-color: transparent;\n",
              "      border-right-color: var(--fill-color);\n",
              "      border-top-color: var(--fill-color);\n",
              "    }\n",
              "    60% {\n",
              "      border-color: transparent;\n",
              "      border-right-color: var(--fill-color);\n",
              "    }\n",
              "    80% {\n",
              "      border-color: transparent;\n",
              "      border-right-color: var(--fill-color);\n",
              "      border-bottom-color: var(--fill-color);\n",
              "    }\n",
              "    90% {\n",
              "      border-color: transparent;\n",
              "      border-bottom-color: var(--fill-color);\n",
              "    }\n",
              "  }\n",
              "</style>\n",
              "\n",
              "  <script>\n",
              "    async function quickchart(key) {\n",
              "      const quickchartButtonEl =\n",
              "        document.querySelector('#' + key + ' button');\n",
              "      quickchartButtonEl.disabled = true;  // To prevent multiple clicks.\n",
              "      quickchartButtonEl.classList.add('colab-df-spinner');\n",
              "      try {\n",
              "        const charts = await google.colab.kernel.invokeFunction(\n",
              "            'suggestCharts', [key], {});\n",
              "      } catch (error) {\n",
              "        console.error('Error during call to suggestCharts:', error);\n",
              "      }\n",
              "      quickchartButtonEl.classList.remove('colab-df-spinner');\n",
              "      quickchartButtonEl.classList.add('colab-df-quickchart-complete');\n",
              "    }\n",
              "    (() => {\n",
              "      let quickchartButtonEl =\n",
              "        document.querySelector('#df-d50a9b88-5cd1-420c-9ae9-d4f8bfae0fee button');\n",
              "      quickchartButtonEl.style.display =\n",
              "        google.colab.kernel.accessAllowed ? 'block' : 'none';\n",
              "    })();\n",
              "  </script>\n",
              "</div>\n",
              "\n",
              "  <div id=\"id_009a1456-cb3a-4020-b5ee-2cbb2057659a\">\n",
              "    <style>\n",
              "      .colab-df-generate {\n",
              "        background-color: #E8F0FE;\n",
              "        border: none;\n",
              "        border-radius: 50%;\n",
              "        cursor: pointer;\n",
              "        display: none;\n",
              "        fill: #1967D2;\n",
              "        height: 32px;\n",
              "        padding: 0 0 0 0;\n",
              "        width: 32px;\n",
              "      }\n",
              "\n",
              "      .colab-df-generate:hover {\n",
              "        background-color: #E2EBFA;\n",
              "        box-shadow: 0px 1px 2px rgba(60, 64, 67, 0.3), 0px 1px 3px 1px rgba(60, 64, 67, 0.15);\n",
              "        fill: #174EA6;\n",
              "      }\n",
              "\n",
              "      [theme=dark] .colab-df-generate {\n",
              "        background-color: #3B4455;\n",
              "        fill: #D2E3FC;\n",
              "      }\n",
              "\n",
              "      [theme=dark] .colab-df-generate:hover {\n",
              "        background-color: #434B5C;\n",
              "        box-shadow: 0px 1px 3px 1px rgba(0, 0, 0, 0.15);\n",
              "        filter: drop-shadow(0px 1px 2px rgba(0, 0, 0, 0.3));\n",
              "        fill: #FFFFFF;\n",
              "      }\n",
              "    </style>\n",
              "    <button class=\"colab-df-generate\" onclick=\"generateWithVariable('within_3_SDs')\"\n",
              "            title=\"Generate code using this dataframe.\"\n",
              "            style=\"display:none;\">\n",
              "\n",
              "  <svg xmlns=\"http://www.w3.org/2000/svg\" height=\"24px\"viewBox=\"0 0 24 24\"\n",
              "       width=\"24px\">\n",
              "    <path d=\"M7,19H8.4L18.45,9,17,7.55,7,17.6ZM5,21V16.75L18.45,3.32a2,2,0,0,1,2.83,0l1.4,1.43a1.91,1.91,0,0,1,.58,1.4,1.91,1.91,0,0,1-.58,1.4L9.25,21ZM18.45,9,17,7.55Zm-12,3A5.31,5.31,0,0,0,4.9,8.1,5.31,5.31,0,0,0,1,6.5,5.31,5.31,0,0,0,4.9,4.9,5.31,5.31,0,0,0,6.5,1,5.31,5.31,0,0,0,8.1,4.9,5.31,5.31,0,0,0,12,6.5,5.46,5.46,0,0,0,6.5,12Z\"/>\n",
              "  </svg>\n",
              "    </button>\n",
              "    <script>\n",
              "      (() => {\n",
              "      const buttonEl =\n",
              "        document.querySelector('#id_009a1456-cb3a-4020-b5ee-2cbb2057659a button.colab-df-generate');\n",
              "      buttonEl.style.display =\n",
              "        google.colab.kernel.accessAllowed ? 'block' : 'none';\n",
              "\n",
              "      buttonEl.onclick = () => {\n",
              "        google.colab.notebook.generateWithVariable('within_3_SDs');\n",
              "      }\n",
              "      })();\n",
              "    </script>\n",
              "  </div>\n",
              "\n",
              "    </div>\n",
              "  </div>\n"
            ],
            "application/vnd.google.colaboratory.intrinsic+json": {
              "type": "dataframe",
              "variable_name": "within_3_SDs",
              "summary": "{\n  \"name\": \"within_3_SDs\",\n  \"rows\": 1158,\n  \"fields\": [\n    {\n      \"column\": \"Birth Weight\",\n      \"properties\": {\n        \"dtype\": \"number\",\n        \"std\": 18,\n        \"min\": 55,\n        \"max\": 176,\n        \"num_unique_values\": 107,\n        \"samples\": [\n          68,\n          141,\n          136\n        ],\n        \"semantic_type\": \"\",\n        \"description\": \"\"\n      }\n    },\n    {\n      \"column\": \"Gestational Days\",\n      \"properties\": {\n        \"dtype\": \"number\",\n        \"std\": 16,\n        \"min\": 148,\n        \"max\": 353,\n        \"num_unique_values\": 104,\n        \"samples\": [\n          272,\n          319,\n          308\n        ],\n        \"semantic_type\": \"\",\n        \"description\": \"\"\n      }\n    },\n    {\n      \"column\": \"Maternal Age\",\n      \"properties\": {\n        \"dtype\": \"number\",\n        \"std\": 5,\n        \"min\": 15,\n        \"max\": 45,\n        \"num_unique_values\": 30,\n        \"samples\": [\n          15,\n          37,\n          40\n        ],\n        \"semantic_type\": \"\",\n        \"description\": \"\"\n      }\n    },\n    {\n      \"column\": \"Maternal Height\",\n      \"properties\": {\n        \"dtype\": \"number\",\n        \"std\": 2,\n        \"min\": 53,\n        \"max\": 72,\n        \"num_unique_values\": 19,\n        \"samples\": [\n          62,\n          68,\n          70\n        ],\n        \"semantic_type\": \"\",\n        \"description\": \"\"\n      }\n    },\n    {\n      \"column\": \"Maternal Pregnancy Weight\",\n      \"properties\": {\n        \"dtype\": \"number\",\n        \"std\": 18,\n        \"min\": 87,\n        \"max\": 190,\n        \"num_unique_values\": 92,\n        \"samples\": [\n          137,\n          132,\n          127\n        ],\n        \"semantic_type\": \"\",\n        \"description\": \"\"\n      }\n    }\n  ]\n}"
            }
          },
          "metadata": {},
          "execution_count": 19
        }
      ],
      "source": [
        "within_3_SDs = births[(mpw >= ave - 3*sd) & (mpw <= ave +3*sd)]\n",
        "within_3_SDs"
      ]
    },
    {
      "cell_type": "code",
      "execution_count": 22,
      "id": "cell-lec25-32",
      "metadata": {
        "id": "cell-lec25-32",
        "colab": {
          "base_uri": "https://localhost:8080/"
        },
        "outputId": "c5f130ab-6bd2-46ea-f299-3a639199f5e1"
      },
      "outputs": [
        {
          "output_type": "execute_result",
          "data": {
            "text/plain": [
              "0.9863713798977853"
            ]
          },
          "metadata": {},
          "execution_count": 22
        }
      ],
      "source": [
        "# Proportion within 3 SDs of the mean\n",
        "within_3_SDs.shape[0] / births.shape[0]\n"
      ]
    },
    {
      "cell_type": "code",
      "execution_count": 23,
      "id": "cell-lec25-33",
      "metadata": {
        "id": "cell-lec25-33",
        "colab": {
          "base_uri": "https://localhost:8080/"
        },
        "outputId": "26d9bace-2dbc-41cf-a526-85c53a901971"
      },
      "outputs": [
        {
          "output_type": "execute_result",
          "data": {
            "text/plain": [
              "0.8888888888888888"
            ]
          },
          "metadata": {},
          "execution_count": 23
        }
      ],
      "source": [
        "# Chebyshev's bound:\n",
        "# This proportion should be at least\n",
        "1 - 1/3**2"
      ]
    },
    {
      "cell_type": "code",
      "execution_count": 24,
      "id": "cell-lec25-34",
      "metadata": {
        "id": "cell-lec25-34",
        "colab": {
          "base_uri": "https://localhost:8080/"
        },
        "outputId": "ba161a5d-420d-4d52-ee7d-0aa3a4518c66"
      },
      "outputs": [
        {
          "output_type": "execute_result",
          "data": {
            "text/plain": [
              "Index(['Birth Weight', 'Gestational Days', 'Maternal Age', 'Maternal Height',\n",
              "       'Maternal Pregnancy Weight'],\n",
              "      dtype='object')"
            ]
          },
          "metadata": {},
          "execution_count": 24
        }
      ],
      "source": [
        "births.columns"
      ]
    },
    {
      "cell_type": "code",
      "execution_count": 25,
      "id": "cell-lec25-35",
      "metadata": {
        "id": "cell-lec25-35",
        "colab": {
          "base_uri": "https://localhost:8080/"
        },
        "outputId": "c2a71f4b-fe30-4a2a-e13d-e903c2db484c"
      },
      "outputs": [
        {
          "output_type": "stream",
          "name": "stdout",
          "text": [
            "\n",
            "Birth Weight\n",
            "Average plus or minus 2 SDs: 94.89%\n",
            "Average plus or minus 3 SDs: 99.57%\n",
            "Average plus or minus 4 SDs: 100.0%\n",
            "Average plus or minus 5 SDs: 100.0%\n",
            "\n",
            "Gestational Days\n",
            "Average plus or minus 2 SDs: 93.78%\n",
            "Average plus or minus 3 SDs: 98.64%\n",
            "Average plus or minus 4 SDs: 99.57%\n",
            "Average plus or minus 5 SDs: 99.83%\n",
            "\n",
            "Maternal Age\n",
            "Average plus or minus 2 SDs: 94.89%\n",
            "Average plus or minus 3 SDs: 99.91%\n",
            "Average plus or minus 4 SDs: 100.0%\n",
            "Average plus or minus 5 SDs: 100.0%\n",
            "\n",
            "Maternal Height\n",
            "Average plus or minus 2 SDs: 97.19%\n",
            "Average plus or minus 3 SDs: 99.66%\n",
            "Average plus or minus 4 SDs: 99.91%\n",
            "Average plus or minus 5 SDs: 100.0%\n",
            "\n",
            "Maternal Pregnancy Weight\n",
            "Average plus or minus 2 SDs: 95.06%\n",
            "Average plus or minus 3 SDs: 98.64%\n",
            "Average plus or minus 4 SDs: 99.49%\n",
            "Average plus or minus 5 SDs: 99.91%\n"
          ]
        }
      ],
      "source": [
        "# Iterate over each feature/column in the DataFrame\n",
        "for feature in births.columns:\n",
        "    values = births[feature]\n",
        "\n",
        "    # Check if the column is numeric, since mean and std only apply to numeric data\n",
        "    if np.issubdtype(values.dtype, np.number):\n",
        "        mean = np.mean(values)\n",
        "        sd = np.std(values)\n",
        "\n",
        "        print(f\"\\n{feature}\")\n",
        "\n",
        "        # Check proportions for z = 2, 3, 4, 5 standard deviations\n",
        "        for z in [2, 3, 4, 5]:\n",
        "            # Filter the DataFrame where values fall within z standard deviations from the mean\n",
        "            chosen = births[(values >= mean - z * sd) & (values <= mean + z * sd)]\n",
        "\n",
        "            # Calculate the proportion of rows within the z standard deviations\n",
        "            proportion = len(chosen) / len(births)\n",
        "            percent = round(proportion * 100, 2)\n",
        "\n",
        "            print(f'Average plus or minus {z} SDs: {percent}%')\n",
        "\n"
      ]
    },
    {
      "cell_type": "markdown",
      "id": "cell-lec25-36",
      "metadata": {
        "id": "cell-lec25-36"
      },
      "source": [
        "## Standard Units ##"
      ]
    },
    {
      "cell_type": "code",
      "execution_count": 30,
      "id": "cell-lec25-37",
      "metadata": {
        "id": "cell-lec25-37"
      },
      "outputs": [],
      "source": [
        "def standard_units(x):\n",
        "    \"\"\"Convert array x to standard units.\"\"\"\n",
        "    return (x - np.mean(x)) / np.std(x)"
      ]
    },
    {
      "cell_type": "code",
      "execution_count": 29,
      "id": "cell-lec25-38",
      "metadata": {
        "id": "cell-lec25-38",
        "colab": {
          "base_uri": "https://localhost:8080/"
        },
        "outputId": "da95348d-a059-4414-aba0-d98fa08b828e"
      },
      "outputs": [
        {
          "output_type": "execute_result",
          "data": {
            "text/plain": [
              "(27.228279386712096, 5.815360404190897)"
            ]
          },
          "metadata": {},
          "execution_count": 29
        }
      ],
      "source": [
        "age = births['Maternal Age'].to_numpy()\n",
        "np.mean(age), np.std(age)"
      ]
    },
    {
      "cell_type": "code",
      "execution_count": 31,
      "id": "cell-lec25-39",
      "metadata": {
        "id": "cell-lec25-39",
        "colab": {
          "base_uri": "https://localhost:8080/"
        },
        "outputId": "0981b3a1-e0c8-4621-c5f2-933b935b9901"
      },
      "outputs": [
        {
          "output_type": "execute_result",
          "data": {
            "text/plain": [
              "array([-0.03925456,  0.99249577,  0.13270383, ...,  0.47662061,\n",
              "       -1.07100488,  1.85228771])"
            ]
          },
          "metadata": {},
          "execution_count": 31
        }
      ],
      "source": [
        "ages_standard_units = standard_units(age)\n",
        "ages_standard_units"
      ]
    },
    {
      "cell_type": "code",
      "execution_count": 32,
      "id": "cell-lec25-40",
      "metadata": {
        "id": "cell-lec25-40",
        "colab": {
          "base_uri": "https://localhost:8080/"
        },
        "outputId": "216e3642-be57-4cd6-8574-61bf1b1061b2"
      },
      "outputs": [
        {
          "output_type": "execute_result",
          "data": {
            "text/plain": [
              "(-7.868020072300939e-17, 1.0)"
            ]
          },
          "metadata": {},
          "execution_count": 32
        }
      ],
      "source": [
        "np.mean(ages_standard_units), np.std(ages_standard_units)"
      ]
    },
    {
      "cell_type": "code",
      "source": [],
      "metadata": {
        "id": "rPfwlwhy01An"
      },
      "id": "rPfwlwhy01An",
      "execution_count": null,
      "outputs": []
    },
    {
      "cell_type": "markdown",
      "metadata": {
        "id": "cell-lec26-1"
      },
      "source": [
        "## The SD and Bell Shaped Curves"
      ],
      "id": "cell-lec26-1"
    },
    {
      "cell_type": "code",
      "source": [
        "#upload the file baby.csv\n",
        "#uploaded = files.upload()"
      ],
      "metadata": {
        "id": "l50Rsnz1I53w"
      },
      "execution_count": null,
      "outputs": [],
      "id": "l50Rsnz1I53w"
    },
    {
      "cell_type": "code",
      "execution_count": 33,
      "metadata": {
        "id": "cell-lec26-2"
      },
      "outputs": [],
      "source": [
        "births = pd.read_csv('baby.csv')\n"
      ],
      "id": "cell-lec26-2"
    },
    {
      "cell_type": "code",
      "execution_count": 35,
      "metadata": {
        "id": "cell-lec26-3",
        "colab": {
          "base_uri": "https://localhost:8080/",
          "height": 496
        },
        "collapsed": true,
        "outputId": "4b886f35-ee92-4a38-923a-4fd24fda06e3"
      },
      "outputs": [
        {
          "output_type": "execute_result",
          "data": {
            "text/plain": [
              "array([[<Axes: title={'center': 'Maternal Height'}>]], dtype=object)"
            ]
          },
          "metadata": {},
          "execution_count": 35
        },
        {
          "output_type": "display_data",
          "data": {
            "text/plain": [
              "<Figure size 640x480 with 1 Axes>"
            ],
            "image/png": "[encoded data removed]"
          },
          "metadata": {}
        }
      ],
      "source": [
        "births.hist('Maternal Height', bins = np.arange(56.5, 72.6, 1))"
      ],
      "id": "cell-lec26-3"
    },
    {
      "cell_type": "code",
      "execution_count": 36,
      "metadata": {
        "id": "cell-lec26-4",
        "colab": {
          "base_uri": "https://localhost:8080/"
        },
        "outputId": "abf1cb53-589b-444f-8999-2584aaca7d56"
      },
      "outputs": [
        {
          "output_type": "execute_result",
          "data": {
            "text/plain": [
              "(64.04940374787053, 2.5250254409674375)"
            ]
          },
          "metadata": {},
          "execution_count": 36
        }
      ],
      "source": [
        "heights = births['Maternal Height']\n",
        "np.mean(heights), np.std(heights)"
      ],
      "id": "cell-lec26-4"
    },
    {
      "cell_type": "code",
      "execution_count": 37,
      "metadata": {
        "id": "cell-lec26-5",
        "colab": {
          "base_uri": "https://localhost:8080/"
        },
        "outputId": "2c790c6c-4ee5-4862-8319-07f1000f8a20"
      },
      "outputs": [
        {
          "output_type": "execute_result",
          "data": {
            "text/plain": [
              "(61.52437830690309, 66.57442918883797)"
            ]
          },
          "metadata": {},
          "execution_count": 37
        }
      ],
      "source": [
        "np.mean(heights) - np.std(heights) , np.mean(heights) + np.std(heights)"
      ],
      "id": "cell-lec26-5"
    },
    {
      "cell_type": "markdown",
      "metadata": {
        "collapsed": true,
        "id": "cell-lec26-6"
      },
      "source": [
        "## Central Limit Theorem ##"
      ],
      "id": "cell-lec26-6"
    },
    {
      "cell_type": "code",
      "source": [
        "#upload the file united.csv\n",
        "uploaded = files.upload()"
      ],
      "metadata": {
        "id": "zNEeRtlUJa9X",
        "colab": {
          "base_uri": "https://localhost:8080/",
          "height": 77
        },
        "outputId": "a2d16185-82e8-4c97-f4bd-380d31785a5f"
      },
      "execution_count": 38,
      "outputs": [
        {
          "output_type": "display_data",
          "data": {
            "text/plain": [
              "<IPython.core.display.HTML object>"
            ],
            "text/html": [
              "\n",
              "     <input type=\"file\" id=\"files-a19e0783-b3db-4f46-90df-a26475f62d2b\" name=\"files[]\" multiple disabled\n",
              "        style=\"border:none\" />\n",
              "     <output id=\"result-a19e0783-b3db-4f46-90df-a26475f62d2b\">\n",
              "      Upload widget is only available when the cell has been executed in the\n",
              "      current browser session. Please rerun this cell to enable.\n",
              "      </output>\n",
              "      <script>// Copyright 2017 Google LLC\n",
              "//\n",
              "// Licensed under the Apache License, Version 2.0 (the \"License\");\n",
              "// you may not use this file except in compliance with the License.\n",
              "// You may obtain a copy of the License at\n",
              "//\n",
              "//      http://www.apache.org/licenses/LICENSE-2.0\n",
              "//\n",
              "// Unless required by applicable law or agreed to in writing, software\n",
              "// distributed under the License is distributed on an \"AS IS\" BASIS,\n",
              "// WITHOUT WARRANTIES OR CONDITIONS OF ANY KIND, either express or implied.\n",
              "// See the License for the specific language governing permissions and\n",
              "// limitations under the License.\n",
              "\n",
              "/**\n",
              " * @fileoverview Helpers for google.colab Python module.\n",
              " */\n",
              "(function(scope) {\n",
              "function span(text, styleAttributes = {}) {\n",
              "  const element = document.createElement('span');\n",
              "  element.textContent = text;\n",
              "  for (const key of Object.keys(styleAttributes)) {\n",
              "    element.style[key] = styleAttributes[key];\n",
              "  }\n",
              "  return element;\n",
              "}\n",
              "\n",
              "// Max number of bytes which will be uploaded at a time.\n",
              "const MAX_PAYLOAD_SIZE = 100 * 1024;\n",
              "\n",
              "function _uploadFiles(inputId, outputId) {\n",
              "  const steps = uploadFilesStep(inputId, outputId);\n",
              "  const outputElement = document.getElementById(outputId);\n",
              "  // Cache steps on the outputElement to make it available for the next call\n",
              "  // to uploadFilesContinue from Python.\n",
              "  outputElement.steps = steps;\n",
              "\n",
              "  return _uploadFilesContinue(outputId);\n",
              "}\n",
              "\n",
              "// This is roughly an async generator (not supported in the browser yet),\n",
              "// where there are multiple asynchronous steps and the Python side is going\n",
              "// to poll for completion of each step.\n",
              "// This uses a Promise to block the python side on completion of each step,\n",
              "// then passes the result of the previous step as the input to the next step.\n",
              "function _uploadFilesContinue(outputId) {\n",
              "  const outputElement = document.getElementById(outputId);\n",
              "  const steps = outputElement.steps;\n",
              "\n",
              "  const next = steps.next(outputElement.lastPromiseValue);\n",
              "  return Promise.resolve(next.value.promise).then((value) => {\n",
              "    // Cache the last promise value to make it available to the next\n",
              "    // step of the generator.\n",
              "    outputElement.lastPromiseValue = value;\n",
              "    return next.value.response;\n",
              "  });\n",
              "}\n",
              "\n",
              "/**\n",
              " * Generator function which is called between each async step of the upload\n",
              " * process.\n",
              " * @param {string} inputId Element ID of the input file picker element.\n",
              " * @param {string} outputId Element ID of the output display.\n",
              " * @return {!Iterable<!Object>} Iterable of next steps.\n",
              " */\n",
              "function* uploadFilesStep(inputId, outputId) {\n",
              "  const inputElement = document.getElementById(inputId);\n",
              "  inputElement.disabled = false;\n",
              "\n",
              "  const outputElement = document.getElementById(outputId);\n",
              "  outputElement.innerHTML = '';\n",
              "\n",
              "  const pickedPromise = new Promise((resolve) => {\n",
              "    inputElement.addEventListener('change', (e) => {\n",
              "      resolve(e.target.files);\n",
              "    });\n",
              "  });\n",
              "\n",
              "  const cancel = document.createElement('button');\n",
              "  inputElement.parentElement.appendChild(cancel);\n",
              "  cancel.textContent = 'Cancel upload';\n",
              "  const cancelPromise = new Promise((resolve) => {\n",
              "    cancel.onclick = () => {\n",
              "      resolve(null);\n",
              "    };\n",
              "  });\n",
              "\n",
              "  // Wait for the user to pick the files.\n",
              "  const files = yield {\n",
              "    promise: Promise.race([pickedPromise, cancelPromise]),\n",
              "    response: {\n",
              "      action: 'starting',\n",
              "    }\n",
              "  };\n",
              "\n",
              "  cancel.remove();\n",
              "\n",
              "  // Disable the input element since further picks are not allowed.\n",
              "  inputElement.disabled = true;\n",
              "\n",
              "  if (!files) {\n",
              "    return {\n",
              "      response: {\n",
              "        action: 'complete',\n",
              "      }\n",
              "    };\n",
              "  }\n",
              "\n",
              "  for (const file of files) {\n",
              "    const li = document.createElement('li');\n",
              "    li.append(span(file.name, {fontWeight: 'bold'}));\n",
              "    li.append(span(\n",
              "        `(${file.type || 'n/a'}) - ${file.size} bytes, ` +\n",
              "        `last modified: ${\n",
              "            file.lastModifiedDate ? file.lastModifiedDate.toLocaleDateString() :\n",
              "                                    'n/a'} - `));\n",
              "    const percent = span('0% done');\n",
              "    li.appendChild(percent);\n",
              "\n",
              "    outputElement.appendChild(li);\n",
              "\n",
              "    const fileDataPromise = new Promise((resolve) => {\n",
              "      const reader = new FileReader();\n",
              "      reader.onload = (e) => {\n",
              "        resolve(e.target.result);\n",
              "      };\n",
              "      reader.readAsArrayBuffer(file);\n",
              "    });\n",
              "    // Wait for the data to be ready.\n",
              "    let fileData = yield {\n",
              "      promise: fileDataPromise,\n",
              "      response: {\n",
              "        action: 'continue',\n",
              "      }\n",
              "    };\n",
              "\n",
              "    // Use a chunked sending to avoid message size limits. See b/62115660.\n",
              "    let position = 0;\n",
              "    do {\n",
              "      const length = Math.min(fileData.byteLength - position, MAX_PAYLOAD_SIZE);\n",
              "      const chunk = new Uint8Array(fileData, position, length);\n",
              "      position += length;\n",
              "\n",
              "      const base64 = btoa(String.fromCharCode.apply(null, chunk));\n",
              "      yield {\n",
              "        response: {\n",
              "          action: 'append',\n",
              "          file: file.name,\n",
              "          data: base64,\n",
              "        },\n",
              "      };\n",
              "\n",
              "      let percentDone = fileData.byteLength === 0 ?\n",
              "          100 :\n",
              "          Math.round((position / fileData.byteLength) * 100);\n",
              "      percent.textContent = `${percentDone}% done`;\n",
              "\n",
              "    } while (position < fileData.byteLength);\n",
              "  }\n",
              "\n",
              "  // All done.\n",
              "  yield {\n",
              "    response: {\n",
              "      action: 'complete',\n",
              "    }\n",
              "  };\n",
              "}\n",
              "\n",
              "scope.google = scope.google || {};\n",
              "scope.google.colab = scope.google.colab || {};\n",
              "scope.google.colab._files = {\n",
              "  _uploadFiles,\n",
              "  _uploadFilesContinue,\n",
              "};\n",
              "})(self);\n",
              "</script> "
            ]
          },
          "metadata": {}
        },
        {
          "output_type": "stream",
          "name": "stdout",
          "text": [
            "Saving united.csv to united.csv\n"
          ]
        }
      ],
      "id": "zNEeRtlUJa9X"
    },
    {
      "cell_type": "code",
      "execution_count": 39,
      "metadata": {
        "id": "cell-lec26-7",
        "colab": {
          "base_uri": "https://localhost:8080/",
          "height": 423
        },
        "collapsed": true,
        "outputId": "46a7cc0d-41e8-4ef9-ad26-ef23ed5e9229"
      },
      "outputs": [
        {
          "output_type": "execute_result",
          "data": {
            "text/plain": [
              "          Date  Flight Number Destination  Delay\n",
              "0       6/1/15             73         HNL    257\n",
              "1       6/1/15            217         EWR     28\n",
              "2       6/1/15            237         STL     -3\n",
              "3       6/1/15            250         SAN      0\n",
              "4       6/1/15            267         PHL     64\n",
              "...        ...            ...         ...    ...\n",
              "13820  8/31/15           1978         LAS     -4\n",
              "13821  8/31/15           1993         IAD      8\n",
              "13822  8/31/15           1994         ORD      3\n",
              "13823  8/31/15           2000         PHX     -1\n",
              "13824  8/31/15           2013         EWR     -2\n",
              "\n",
              "[13825 rows x 4 columns]"
            ],
            "text/html": [
              "\n",
              "  <div id=\"df-59e85d56-2709-43b9-b371-2b3fe6fadf59\" class=\"colab-df-container\">\n",
              "    <div>\n",
              "<style scoped>\n",
              "    .dataframe tbody tr th:only-of-type {\n",
              "        vertical-align: middle;\n",
              "    }\n",
              "\n",
              "    .dataframe tbody tr th {\n",
              "        vertical-align: top;\n",
              "    }\n",
              "\n",
              "    .dataframe thead th {\n",
              "        text-align: right;\n",
              "    }\n",
              "</style>\n",
              "<table border=\"1\" class=\"dataframe\">\n",
              "  <thead>\n",
              "    <tr style=\"text-align: right;\">\n",
              "      <th></th>\n",
              "      <th>Date</th>\n",
              "      <th>Flight Number</th>\n",
              "      <th>Destination</th>\n",
              "      <th>Delay</th>\n",
              "    </tr>\n",
              "  </thead>\n",
              "  <tbody>\n",
              "    <tr>\n",
              "      <th>0</th>\n",
              "      <td>6/1/15</td>\n",
              "      <td>73</td>\n",
              "      <td>HNL</td>\n",
              "      <td>257</td>\n",
              "    </tr>\n",
              "    <tr>\n",
              "      <th>1</th>\n",
              "      <td>6/1/15</td>\n",
              "      <td>217</td>\n",
              "      <td>EWR</td>\n",
              "      <td>28</td>\n",
              "    </tr>\n",
              "    <tr>\n",
              "      <th>2</th>\n",
              "      <td>6/1/15</td>\n",
              "      <td>237</td>\n",
              "      <td>STL</td>\n",
              "      <td>-3</td>\n",
              "    </tr>\n",
              "    <tr>\n",
              "      <th>3</th>\n",
              "      <td>6/1/15</td>\n",
              "      <td>250</td>\n",
              "      <td>SAN</td>\n",
              "      <td>0</td>\n",
              "    </tr>\n",
              "    <tr>\n",
              "      <th>4</th>\n",
              "      <td>6/1/15</td>\n",
              "      <td>267</td>\n",
              "      <td>PHL</td>\n",
              "      <td>64</td>\n",
              "    </tr>\n",
              "    <tr>\n",
              "      <th>...</th>\n",
              "      <td>...</td>\n",
              "      <td>...</td>\n",
              "      <td>...</td>\n",
              "      <td>...</td>\n",
              "    </tr>\n",
              "    <tr>\n",
              "      <th>13820</th>\n",
              "      <td>8/31/15</td>\n",
              "      <td>1978</td>\n",
              "      <td>LAS</td>\n",
              "      <td>-4</td>\n",
              "    </tr>\n",
              "    <tr>\n",
              "      <th>13821</th>\n",
              "      <td>8/31/15</td>\n",
              "      <td>1993</td>\n",
              "      <td>IAD</td>\n",
              "      <td>8</td>\n",
              "    </tr>\n",
              "    <tr>\n",
              "      <th>13822</th>\n",
              "      <td>8/31/15</td>\n",
              "      <td>1994</td>\n",
              "      <td>ORD</td>\n",
              "      <td>3</td>\n",
              "    </tr>\n",
              "    <tr>\n",
              "      <th>13823</th>\n",
              "      <td>8/31/15</td>\n",
              "      <td>2000</td>\n",
              "      <td>PHX</td>\n",
              "      <td>-1</td>\n",
              "    </tr>\n",
              "    <tr>\n",
              "      <th>13824</th>\n",
              "      <td>8/31/15</td>\n",
              "      <td>2013</td>\n",
              "      <td>EWR</td>\n",
              "      <td>-2</td>\n",
              "    </tr>\n",
              "  </tbody>\n",
              "</table>\n",
              "<p>13825 rows × 4 columns</p>\n",
              "</div>\n",
              "    <div class=\"colab-df-buttons\">\n",
              "\n",
              "  <div class=\"colab-df-container\">\n",
              "    <button class=\"colab-df-convert\" onclick=\"convertToInteractive('df-59e85d56-2709-43b9-b371-2b3fe6fadf59')\"\n",
              "            title=\"Convert this dataframe to an interactive table.\"\n",
              "            style=\"display:none;\">\n",
              "\n",
              "  <svg xmlns=\"http://www.w3.org/2000/svg\" height=\"24px\" viewBox=\"0 -960 960 960\">\n",
              "    <path d=\"M120-120v-720h720v720H120Zm60-500h600v-160H180v160Zm220 220h160v-160H400v160Zm0 220h160v-160H400v160ZM180-400h160v-160H180v160Zm440 0h160v-160H620v160ZM180-180h160v-160H180v160Zm440 0h160v-160H620v160Z\"/>\n",
              "  </svg>\n",
              "    </button>\n",
              "\n",
              "  <style>\n",
              "    .colab-df-container {\n",
              "      display:flex;\n",
              "      gap: 12px;\n",
              "    }\n",
              "\n",
              "    .colab-df-convert {\n",
              "      background-color: #E8F0FE;\n",
              "      border: none;\n",
              "      border-radius: 50%;\n",
              "      cursor: pointer;\n",
              "      display: none;\n",
              "      fill: #1967D2;\n",
              "      height: 32px;\n",
              "      padding: 0 0 0 0;\n",
              "      width: 32px;\n",
              "    }\n",
              "\n",
              "    .colab-df-convert:hover {\n",
              "      background-color: #E2EBFA;\n",
              "      box-shadow: 0px 1px 2px rgba(60, 64, 67, 0.3), 0px 1px 3px 1px rgba(60, 64, 67, 0.15);\n",
              "      fill: #174EA6;\n",
              "    }\n",
              "\n",
              "    .colab-df-buttons div {\n",
              "      margin-bottom: 4px;\n",
              "    }\n",
              "\n",
              "    [theme=dark] .colab-df-convert {\n",
              "      background-color: #3B4455;\n",
              "      fill: #D2E3FC;\n",
              "    }\n",
              "\n",
              "    [theme=dark] .colab-df-convert:hover {\n",
              "      background-color: #434B5C;\n",
              "      box-shadow: 0px 1px 3px 1px rgba(0, 0, 0, 0.15);\n",
              "      filter: drop-shadow(0px 1px 2px rgba(0, 0, 0, 0.3));\n",
              "      fill: #FFFFFF;\n",
              "    }\n",
              "  </style>\n",
              "\n",
              "    <script>\n",
              "      const buttonEl =\n",
              "        document.querySelector('#df-59e85d56-2709-43b9-b371-2b3fe6fadf59 button.colab-df-convert');\n",
              "      buttonEl.style.display =\n",
              "        google.colab.kernel.accessAllowed ? 'block' : 'none';\n",
              "\n",
              "      async function convertToInteractive(key) {\n",
              "        const element = document.querySelector('#df-59e85d56-2709-43b9-b371-2b3fe6fadf59');\n",
              "        const dataTable =\n",
              "          await google.colab.kernel.invokeFunction('convertToInteractive',\n",
              "                                                    [key], {});\n",
              "        if (!dataTable) return;\n",
              "\n",
              "        const docLinkHtml = 'Like what you see? Visit the ' +\n",
              "          '<a target=\"_blank\" href=https://colab.research.google.com/notebooks/data_table.ipynb>data table notebook</a>'\n",
              "          + ' to learn more about interactive tables.';\n",
              "        element.innerHTML = '';\n",
              "        dataTable['output_type'] = 'display_data';\n",
              "        await google.colab.output.renderOutput(dataTable, element);\n",
              "        const docLink = document.createElement('div');\n",
              "        docLink.innerHTML = docLinkHtml;\n",
              "        element.appendChild(docLink);\n",
              "      }\n",
              "    </script>\n",
              "  </div>\n",
              "\n",
              "\n",
              "<div id=\"df-13c3fa40-24c5-4564-b148-a2abd78cf65a\">\n",
              "  <button class=\"colab-df-quickchart\" onclick=\"quickchart('df-13c3fa40-24c5-4564-b148-a2abd78cf65a')\"\n",
              "            title=\"Suggest charts\"\n",
              "            style=\"display:none;\">\n",
              "\n",
              "<svg xmlns=\"http://www.w3.org/2000/svg\" height=\"24px\"viewBox=\"0 0 24 24\"\n",
              "     width=\"24px\">\n",
              "    <g>\n",
              "        <path d=\"M19 3H5c-1.1 0-2 .9-2 2v14c0 1.1.9 2 2 2h14c1.1 0 2-.9 2-2V5c0-1.1-.9-2-2-2zM9 17H7v-7h2v7zm4 0h-2V7h2v10zm4 0h-2v-4h2v4z\"/>\n",
              "    </g>\n",
              "</svg>\n",
              "  </button>\n",
              "\n",
              "<style>\n",
              "  .colab-df-quickchart {\n",
              "      --bg-color: #E8F0FE;\n",
              "      --fill-color: #1967D2;\n",
              "      --hover-bg-color: #E2EBFA;\n",
              "      --hover-fill-color: #174EA6;\n",
              "      --disabled-fill-color: #AAA;\n",
              "      --disabled-bg-color: #DDD;\n",
              "  }\n",
              "\n",
              "  [theme=dark] .colab-df-quickchart {\n",
              "      --bg-color: #3B4455;\n",
              "      --fill-color: #D2E3FC;\n",
              "      --hover-bg-color: #434B5C;\n",
              "      --hover-fill-color: #FFFFFF;\n",
              "      --disabled-bg-color: #3B4455;\n",
              "      --disabled-fill-color: #666;\n",
              "  }\n",
              "\n",
              "  .colab-df-quickchart {\n",
              "    background-color: var(--bg-color);\n",
              "    border: none;\n",
              "    border-radius: 50%;\n",
              "    cursor: pointer;\n",
              "    display: none;\n",
              "    fill: var(--fill-color);\n",
              "    height: 32px;\n",
              "    padding: 0;\n",
              "    width: 32px;\n",
              "  }\n",
              "\n",
              "  .colab-df-quickchart:hover {\n",
              "    background-color: var(--hover-bg-color);\n",
              "    box-shadow: 0 1px 2px rgba(60, 64, 67, 0.3), 0 1px 3px 1px rgba(60, 64, 67, 0.15);\n",
              "    fill: var(--button-hover-fill-color);\n",
              "  }\n",
              "\n",
              "  .colab-df-quickchart-complete:disabled,\n",
              "  .colab-df-quickchart-complete:disabled:hover {\n",
              "    background-color: var(--disabled-bg-color);\n",
              "    fill: var(--disabled-fill-color);\n",
              "    box-shadow: none;\n",
              "  }\n",
              "\n",
              "  .colab-df-spinner {\n",
              "    border: 2px solid var(--fill-color);\n",
              "    border-color: transparent;\n",
              "    border-bottom-color: var(--fill-color);\n",
              "    animation:\n",
              "      spin 1s steps(1) infinite;\n",
              "  }\n",
              "\n",
              "  @keyframes spin {\n",
              "    0% {\n",
              "      border-color: transparent;\n",
              "      border-bottom-color: var(--fill-color);\n",
              "      border-left-color: var(--fill-color);\n",
              "    }\n",
              "    20% {\n",
              "      border-color: transparent;\n",
              "      border-left-color: var(--fill-color);\n",
              "      border-top-color: var(--fill-color);\n",
              "    }\n",
              "    30% {\n",
              "      border-color: transparent;\n",
              "      border-left-color: var(--fill-color);\n",
              "      border-top-color: var(--fill-color);\n",
              "      border-right-color: var(--fill-color);\n",
              "    }\n",
              "    40% {\n",
              "      border-color: transparent;\n",
              "      border-right-color: var(--fill-color);\n",
              "      border-top-color: var(--fill-color);\n",
              "    }\n",
              "    60% {\n",
              "      border-color: transparent;\n",
              "      border-right-color: var(--fill-color);\n",
              "    }\n",
              "    80% {\n",
              "      border-color: transparent;\n",
              "      border-right-color: var(--fill-color);\n",
              "      border-bottom-color: var(--fill-color);\n",
              "    }\n",
              "    90% {\n",
              "      border-color: transparent;\n",
              "      border-bottom-color: var(--fill-color);\n",
              "    }\n",
              "  }\n",
              "</style>\n",
              "\n",
              "  <script>\n",
              "    async function quickchart(key) {\n",
              "      const quickchartButtonEl =\n",
              "        document.querySelector('#' + key + ' button');\n",
              "      quickchartButtonEl.disabled = true;  // To prevent multiple clicks.\n",
              "      quickchartButtonEl.classList.add('colab-df-spinner');\n",
              "      try {\n",
              "        const charts = await google.colab.kernel.invokeFunction(\n",
              "            'suggestCharts', [key], {});\n",
              "      } catch (error) {\n",
              "        console.error('Error during call to suggestCharts:', error);\n",
              "      }\n",
              "      quickchartButtonEl.classList.remove('colab-df-spinner');\n",
              "      quickchartButtonEl.classList.add('colab-df-quickchart-complete');\n",
              "    }\n",
              "    (() => {\n",
              "      let quickchartButtonEl =\n",
              "        document.querySelector('#df-13c3fa40-24c5-4564-b148-a2abd78cf65a button');\n",
              "      quickchartButtonEl.style.display =\n",
              "        google.colab.kernel.accessAllowed ? 'block' : 'none';\n",
              "    })();\n",
              "  </script>\n",
              "</div>\n",
              "\n",
              "  <div id=\"id_478c4974-1712-41a3-a4fe-00cbd2074b6b\">\n",
              "    <style>\n",
              "      .colab-df-generate {\n",
              "        background-color: #E8F0FE;\n",
              "        border: none;\n",
              "        border-radius: 50%;\n",
              "        cursor: pointer;\n",
              "        display: none;\n",
              "        fill: #1967D2;\n",
              "        height: 32px;\n",
              "        padding: 0 0 0 0;\n",
              "        width: 32px;\n",
              "      }\n",
              "\n",
              "      .colab-df-generate:hover {\n",
              "        background-color: #E2EBFA;\n",
              "        box-shadow: 0px 1px 2px rgba(60, 64, 67, 0.3), 0px 1px 3px 1px rgba(60, 64, 67, 0.15);\n",
              "        fill: #174EA6;\n",
              "      }\n",
              "\n",
              "      [theme=dark] .colab-df-generate {\n",
              "        background-color: #3B4455;\n",
              "        fill: #D2E3FC;\n",
              "      }\n",
              "\n",
              "      [theme=dark] .colab-df-generate:hover {\n",
              "        background-color: #434B5C;\n",
              "        box-shadow: 0px 1px 3px 1px rgba(0, 0, 0, 0.15);\n",
              "        filter: drop-shadow(0px 1px 2px rgba(0, 0, 0, 0.3));\n",
              "        fill: #FFFFFF;\n",
              "      }\n",
              "    </style>\n",
              "    <button class=\"colab-df-generate\" onclick=\"generateWithVariable('united')\"\n",
              "            title=\"Generate code using this dataframe.\"\n",
              "            style=\"display:none;\">\n",
              "\n",
              "  <svg xmlns=\"http://www.w3.org/2000/svg\" height=\"24px\"viewBox=\"0 0 24 24\"\n",
              "       width=\"24px\">\n",
              "    <path d=\"M7,19H8.4L18.45,9,17,7.55,7,17.6ZM5,21V16.75L18.45,3.32a2,2,0,0,1,2.83,0l1.4,1.43a1.91,1.91,0,0,1,.58,1.4,1.91,1.91,0,0,1-.58,1.4L9.25,21ZM18.45,9,17,7.55Zm-12,3A5.31,5.31,0,0,0,4.9,8.1,5.31,5.31,0,0,0,1,6.5,5.31,5.31,0,0,0,4.9,4.9,5.31,5.31,0,0,0,6.5,1,5.31,5.31,0,0,0,8.1,4.9,5.31,5.31,0,0,0,12,6.5,5.46,5.46,0,0,0,6.5,12Z\"/>\n",
              "  </svg>\n",
              "    </button>\n",
              "    <script>\n",
              "      (() => {\n",
              "      const buttonEl =\n",
              "        document.querySelector('#id_478c4974-1712-41a3-a4fe-00cbd2074b6b button.colab-df-generate');\n",
              "      buttonEl.style.display =\n",
              "        google.colab.kernel.accessAllowed ? 'block' : 'none';\n",
              "\n",
              "      buttonEl.onclick = () => {\n",
              "        google.colab.notebook.generateWithVariable('united');\n",
              "      }\n",
              "      })();\n",
              "    </script>\n",
              "  </div>\n",
              "\n",
              "    </div>\n",
              "  </div>\n"
            ],
            "application/vnd.google.colaboratory.intrinsic+json": {
              "type": "dataframe",
              "variable_name": "united",
              "summary": "{\n  \"name\": \"united\",\n  \"rows\": 13825,\n  \"fields\": [\n    {\n      \"column\": \"Date\",\n      \"properties\": {\n        \"dtype\": \"object\",\n        \"num_unique_values\": 92,\n        \"samples\": [\n          \"7/11/15\",\n          \"6/23/15\",\n          \"7/26/15\"\n        ],\n        \"semantic_type\": \"\",\n        \"description\": \"\"\n      }\n    },\n    {\n      \"column\": \"Flight Number\",\n      \"properties\": {\n        \"dtype\": \"number\",\n        \"std\": 571,\n        \"min\": 3,\n        \"max\": 2117,\n        \"num_unique_values\": 602,\n        \"samples\": [\n          1563,\n          1485,\n          1822\n        ],\n        \"semantic_type\": \"\",\n        \"description\": \"\"\n      }\n    },\n    {\n      \"column\": \"Destination\",\n      \"properties\": {\n        \"dtype\": \"category\",\n        \"num_unique_values\": 38,\n        \"samples\": [\n          \"KOA\",\n          \"SAT\",\n          \"PHL\"\n        ],\n        \"semantic_type\": \"\",\n        \"description\": \"\"\n      }\n    },\n    {\n      \"column\": \"Delay\",\n      \"properties\": {\n        \"dtype\": \"number\",\n        \"std\": 39,\n        \"min\": -16,\n        \"max\": 580,\n        \"num_unique_values\": 293,\n        \"samples\": [\n          76,\n          143,\n          101\n        ],\n        \"semantic_type\": \"\",\n        \"description\": \"\"\n      }\n    }\n  ]\n}"
            }
          },
          "metadata": {},
          "execution_count": 39
        }
      ],
      "source": [
        "united = pd.read_csv('united.csv')\n",
        "united"
      ],
      "id": "cell-lec26-7"
    },
    {
      "cell_type": "code",
      "execution_count": 40,
      "metadata": {
        "id": "cell-lec26-8",
        "colab": {
          "base_uri": "https://localhost:8080/",
          "height": 496
        },
        "collapsed": true,
        "outputId": "26d957bb-c25d-4001-eb20-63b05d5d08ee"
      },
      "outputs": [
        {
          "output_type": "execute_result",
          "data": {
            "text/plain": [
              "array([[<Axes: title={'center': 'Delay'}>]], dtype=object)"
            ]
          },
          "metadata": {},
          "execution_count": 40
        },
        {
          "output_type": "display_data",
          "data": {
            "text/plain": [
              "<Figure size 640x480 with 1 Axes>"
            ],
            "image/png": "[encoded data removed]"
          },
          "metadata": {}
        }
      ],
      "source": [
        "united_bins = np.arange(-20,300,10)\n",
        "united.hist('Delay', bins=united_bins)"
      ],
      "id": "cell-lec26-8"
    },
    {
      "cell_type": "code",
      "execution_count": 41,
      "metadata": {
        "id": "cell-lec26-9",
        "colab": {
          "base_uri": "https://localhost:8080/"
        },
        "outputId": "6156d971-6bf4-4bef-ca1e-0b0c26857446"
      },
      "outputs": [
        {
          "output_type": "execute_result",
          "data": {
            "text/plain": [
              "(16.658155515370705, 39.480199851609314)"
            ]
          },
          "metadata": {},
          "execution_count": 41
        }
      ],
      "source": [
        "delays = united['Delay']\n",
        "delay_mean = np.mean(delays)\n",
        "delay_sd = np.std(delays)\n",
        "delay_mean, delay_sd"
      ],
      "id": "cell-lec26-9"
    },
    {
      "cell_type": "code",
      "execution_count": 42,
      "metadata": {
        "id": "cell-lec26-10",
        "colab": {
          "base_uri": "https://localhost:8080/"
        },
        "outputId": "a844e312-c815-4ec9-8729-f2dea54effd8"
      },
      "outputs": [
        {
          "output_type": "execute_result",
          "data": {
            "text/plain": [
              "2.0"
            ]
          },
          "metadata": {},
          "execution_count": 42
        }
      ],
      "source": [
        "percentile_50 = delays.quantile(0.5)\n",
        "percentile_50"
      ],
      "id": "cell-lec26-10"
    },
    {
      "cell_type": "code",
      "execution_count": 44,
      "metadata": {
        "id": "cell-lec26-11"
      },
      "outputs": [],
      "source": [
        "def one_sample_mean(sample_size):\n",
        "    \"\"\"\n",
        "    Takes a sample from the population of flights\n",
        "    and computes its mean\n",
        "    \"\"\"\n",
        "    # Sample 'sample_size' rows from the united DataFrame\n",
        "    sampled_flights = united.sample(n=sample_size)\n",
        "\n",
        "    # Compute and return the mean of the 'Delay' column from the sampled rows\n",
        "    return sampled_flights['Delay'].mean()\n"
      ],
      "id": "cell-lec26-11"
    },
    {
      "cell_type": "code",
      "execution_count": 45,
      "metadata": {
        "id": "cell-lec26-12",
        "colab": {
          "base_uri": "https://localhost:8080/"
        },
        "outputId": "9b89542c-ca85-4ed6-a176-ed433b3eb4c5"
      },
      "outputs": [
        {
          "output_type": "execute_result",
          "data": {
            "text/plain": [
              "19.19"
            ]
          },
          "metadata": {},
          "execution_count": 45
        }
      ],
      "source": [
        "one_sample_mean(100)"
      ],
      "id": "cell-lec26-12"
    },
    {
      "cell_type": "code",
      "execution_count": 46,
      "metadata": {
        "id": "cell-lec26-13"
      },
      "outputs": [],
      "source": [
        "def ten_thousand_sample_means(sample_size):\n",
        "    means = []  # Start with an empty list to store the sample means\n",
        "    for i in range(10000):  # Loop 10,000 times\n",
        "        mean = one_sample_mean(sample_size)  # Compute the mean for each sample\n",
        "        means.append(mean)  # Append the mean to the list\n",
        "    return np.array(means)  # Convert the list of means to a numpy array\n"
      ],
      "id": "cell-lec26-13"
    },
    {
      "cell_type": "code",
      "execution_count": 47,
      "metadata": {
        "id": "cell-lec26-14"
      },
      "outputs": [],
      "source": [
        "sample_mean_100 = ten_thousand_sample_means(100)"
      ],
      "id": "cell-lec26-14"
    },
    {
      "cell_type": "code",
      "execution_count": 48,
      "metadata": {
        "id": "cell-lec26-15",
        "colab": {
          "base_uri": "https://localhost:8080/"
        },
        "outputId": "0ea0398a-32d9-44fd-c7f1-d1db2606878e"
      },
      "outputs": [
        {
          "output_type": "execute_result",
          "data": {
            "text/plain": [
              "array([ 9.65, 21.31, 13.75, ..., 17.19, 14.53, 18.25])"
            ]
          },
          "metadata": {},
          "execution_count": 48
        }
      ],
      "source": [
        "sample_mean_100"
      ],
      "id": "cell-lec26-15"
    },
    {
      "cell_type": "code",
      "execution_count": 49,
      "metadata": {
        "id": "cell-lec26-16",
        "colab": {
          "base_uri": "https://localhost:8080/"
        },
        "outputId": "1ee9e2a2-0599-446f-d60f-8fda291fd1b4"
      },
      "outputs": [
        {
          "output_type": "execute_result",
          "data": {
            "text/plain": [
              "10000"
            ]
          },
          "metadata": {},
          "execution_count": 49
        }
      ],
      "source": [
        "len(sample_mean_100)"
      ],
      "id": "cell-lec26-16"
    },
    {
      "cell_type": "code",
      "execution_count": 51,
      "metadata": {
        "id": "cell-lec26-17",
        "colab": {
          "base_uri": "https://localhost:8080/",
          "height": 466
        },
        "outputId": "41bd8e9e-5636-4dcc-97c9-66752c3470c3"
      },
      "outputs": [
        {
          "output_type": "display_data",
          "data": {
            "text/plain": [
              "<Figure size 640x480 with 1 Axes>"
            ],
            "image/png": "[encoded data removed]"
          },
          "metadata": {}
        },
        {
          "output_type": "stream",
          "name": "stdout",
          "text": [
            "Population Average 16.658155515370705\n"
          ]
        }
      ],
      "source": [
        "# Create a DataFrame with the sample means\n",
        "df = pd.DataFrame({'Mean of 100 flight delays': sample_mean_100})\n",
        "\n",
        "# Plot a histogram of the sample means with 20 bins\n",
        "df['Mean of 100 flight delays'].plot(kind='hist',bins = 20)\n",
        "\n",
        "# Display the plot\n",
        "plots.show()\n",
        "print('Population Average',delay_mean)"
      ],
      "id": "cell-lec26-17"
    },
    {
      "cell_type": "code",
      "execution_count": 53,
      "metadata": {
        "id": "cell-lec26-18",
        "colab": {
          "base_uri": "https://localhost:8080/",
          "height": 466
        },
        "outputId": "107239ba-77fc-4517-8987-68635512c60b"
      },
      "outputs": [
        {
          "output_type": "display_data",
          "data": {
            "text/plain": [
              "<Figure size 640x480 with 1 Axes>"
            ],
            "image/png": "[encoded data removed]"
          },
          "metadata": {}
        },
        {
          "output_type": "stream",
          "name": "stdout",
          "text": [
            "Population Average 16.658155515370705\n"
          ]
        }
      ],
      "source": [
        "# Generate sample means for sample size of 400\n",
        "sample_means_400 = ten_thousand_sample_means(400)\n",
        "\n",
        "# Create a DataFrame with the sample means\n",
        "df_400 = pd.DataFrame({'Means of 400 flight delays': sample_means_400})\n",
        "\n",
        "# Plot a histogram of the sample means with 20 bins\n",
        "df_400['Means of 400 flight delays'].plot(kind='hist', bins = 20)\n",
        "\n",
        "# Display the plot\n",
        "plots.show()\n",
        "\n",
        "# Print the population average\n",
        "print('Population Average', delay_mean)"
      ],
      "id": "cell-lec26-18"
    },
    {
      "cell_type": "markdown",
      "source": [
        "## CLT: Spread"
      ],
      "metadata": {
        "id": "Iy4H3vapMQYP"
      },
      "id": "Iy4H3vapMQYP"
    },
    {
      "cell_type": "code",
      "source": [
        "sample_means_900 = ten_thousand_sample_means(900)"
      ],
      "metadata": {
        "id": "OZmtYdplMQ3H"
      },
      "execution_count": 54,
      "outputs": [],
      "id": "OZmtYdplMQ3H"
    },
    {
      "cell_type": "code",
      "source": [
        "# Create a DataFrame with columns for the sample means of size 400 and 900\n",
        "means_tbl = pd.DataFrame({\n",
        "    '400': sample_means_400,\n",
        "    '900': sample_means_900\n",
        "})\n",
        "\n",
        "\n",
        "# Display the DataFrame\n",
        "means_tbl\n"
      ],
      "metadata": {
        "id": "rCciVGlpMcrW",
        "colab": {
          "base_uri": "https://localhost:8080/",
          "height": 423
        },
        "outputId": "8204dc97-9a74-4b79-8f55-dc2d7fab6193"
      },
      "execution_count": 55,
      "outputs": [
        {
          "output_type": "execute_result",
          "data": {
            "text/plain": [
              "          400        900\n",
              "0     18.5150  14.757778\n",
              "1     14.1775  16.357778\n",
              "2     15.7325  17.822222\n",
              "3     20.9275  15.324444\n",
              "4     17.6200  17.538889\n",
              "...       ...        ...\n",
              "9995  17.9700  16.354444\n",
              "9996  14.8200  16.478889\n",
              "9997  17.6200  16.564444\n",
              "9998  16.1950  17.280000\n",
              "9999  15.1975  16.488889\n",
              "\n",
              "[10000 rows x 2 columns]"
            ],
            "text/html": [
              "\n",
              "  <div id=\"df-49a58ca1-d7f3-47a3-94c3-292976e24edb\" class=\"colab-df-container\">\n",
              "    <div>\n",
              "<style scoped>\n",
              "    .dataframe tbody tr th:only-of-type {\n",
              "        vertical-align: middle;\n",
              "    }\n",
              "\n",
              "    .dataframe tbody tr th {\n",
              "        vertical-align: top;\n",
              "    }\n",
              "\n",
              "    .dataframe thead th {\n",
              "        text-align: right;\n",
              "    }\n",
              "</style>\n",
              "<table border=\"1\" class=\"dataframe\">\n",
              "  <thead>\n",
              "    <tr style=\"text-align: right;\">\n",
              "      <th></th>\n",
              "      <th>400</th>\n",
              "      <th>900</th>\n",
              "    </tr>\n",
              "  </thead>\n",
              "  <tbody>\n",
              "    <tr>\n",
              "      <th>0</th>\n",
              "      <td>18.5150</td>\n",
              "      <td>14.757778</td>\n",
              "    </tr>\n",
              "    <tr>\n",
              "      <th>1</th>\n",
              "      <td>14.1775</td>\n",
              "      <td>16.357778</td>\n",
              "    </tr>\n",
              "    <tr>\n",
              "      <th>2</th>\n",
              "      <td>15.7325</td>\n",
              "      <td>17.822222</td>\n",
              "    </tr>\n",
              "    <tr>\n",
              "      <th>3</th>\n",
              "      <td>20.9275</td>\n",
              "      <td>15.324444</td>\n",
              "    </tr>\n",
              "    <tr>\n",
              "      <th>4</th>\n",
              "      <td>17.6200</td>\n",
              "      <td>17.538889</td>\n",
              "    </tr>\n",
              "    <tr>\n",
              "      <th>...</th>\n",
              "      <td>...</td>\n",
              "      <td>...</td>\n",
              "    </tr>\n",
              "    <tr>\n",
              "      <th>9995</th>\n",
              "      <td>17.9700</td>\n",
              "      <td>16.354444</td>\n",
              "    </tr>\n",
              "    <tr>\n",
              "      <th>9996</th>\n",
              "      <td>14.8200</td>\n",
              "      <td>16.478889</td>\n",
              "    </tr>\n",
              "    <tr>\n",
              "      <th>9997</th>\n",
              "      <td>17.6200</td>\n",
              "      <td>16.564444</td>\n",
              "    </tr>\n",
              "    <tr>\n",
              "      <th>9998</th>\n",
              "      <td>16.1950</td>\n",
              "      <td>17.280000</td>\n",
              "    </tr>\n",
              "    <tr>\n",
              "      <th>9999</th>\n",
              "      <td>15.1975</td>\n",
              "      <td>16.488889</td>\n",
              "    </tr>\n",
              "  </tbody>\n",
              "</table>\n",
              "<p>10000 rows × 2 columns</p>\n",
              "</div>\n",
              "    <div class=\"colab-df-buttons\">\n",
              "\n",
              "  <div class=\"colab-df-container\">\n",
              "    <button class=\"colab-df-convert\" onclick=\"convertToInteractive('df-49a58ca1-d7f3-47a3-94c3-292976e24edb')\"\n",
              "            title=\"Convert this dataframe to an interactive table.\"\n",
              "            style=\"display:none;\">\n",
              "\n",
              "  <svg xmlns=\"http://www.w3.org/2000/svg\" height=\"24px\" viewBox=\"0 -960 960 960\">\n",
              "    <path d=\"M120-120v-720h720v720H120Zm60-500h600v-160H180v160Zm220 220h160v-160H400v160Zm0 220h160v-160H400v160ZM180-400h160v-160H180v160Zm440 0h160v-160H620v160ZM180-180h160v-160H180v160Zm440 0h160v-160H620v160Z\"/>\n",
              "  </svg>\n",
              "    </button>\n",
              "\n",
              "  <style>\n",
              "    .colab-df-container {\n",
              "      display:flex;\n",
              "      gap: 12px;\n",
              "    }\n",
              "\n",
              "    .colab-df-convert {\n",
              "      background-color: #E8F0FE;\n",
              "      border: none;\n",
              "      border-radius: 50%;\n",
              "      cursor: pointer;\n",
              "      display: none;\n",
              "      fill: #1967D2;\n",
              "      height: 32px;\n",
              "      padding: 0 0 0 0;\n",
              "      width: 32px;\n",
              "    }\n",
              "\n",
              "    .colab-df-convert:hover {\n",
              "      background-color: #E2EBFA;\n",
              "      box-shadow: 0px 1px 2px rgba(60, 64, 67, 0.3), 0px 1px 3px 1px rgba(60, 64, 67, 0.15);\n",
              "      fill: #174EA6;\n",
              "    }\n",
              "\n",
              "    .colab-df-buttons div {\n",
              "      margin-bottom: 4px;\n",
              "    }\n",
              "\n",
              "    [theme=dark] .colab-df-convert {\n",
              "      background-color: #3B4455;\n",
              "      fill: #D2E3FC;\n",
              "    }\n",
              "\n",
              "    [theme=dark] .colab-df-convert:hover {\n",
              "      background-color: #434B5C;\n",
              "      box-shadow: 0px 1px 3px 1px rgba(0, 0, 0, 0.15);\n",
              "      filter: drop-shadow(0px 1px 2px rgba(0, 0, 0, 0.3));\n",
              "      fill: #FFFFFF;\n",
              "    }\n",
              "  </style>\n",
              "\n",
              "    <script>\n",
              "      const buttonEl =\n",
              "        document.querySelector('#df-49a58ca1-d7f3-47a3-94c3-292976e24edb button.colab-df-convert');\n",
              "      buttonEl.style.display =\n",
              "        google.colab.kernel.accessAllowed ? 'block' : 'none';\n",
              "\n",
              "      async function convertToInteractive(key) {\n",
              "        const element = document.querySelector('#df-49a58ca1-d7f3-47a3-94c3-292976e24edb');\n",
              "        const dataTable =\n",
              "          await google.colab.kernel.invokeFunction('convertToInteractive',\n",
              "                                                    [key], {});\n",
              "        if (!dataTable) return;\n",
              "\n",
              "        const docLinkHtml = 'Like what you see? Visit the ' +\n",
              "          '<a target=\"_blank\" href=https://colab.research.google.com/notebooks/data_table.ipynb>data table notebook</a>'\n",
              "          + ' to learn more about interactive tables.';\n",
              "        element.innerHTML = '';\n",
              "        dataTable['output_type'] = 'display_data';\n",
              "        await google.colab.output.renderOutput(dataTable, element);\n",
              "        const docLink = document.createElement('div');\n",
              "        docLink.innerHTML = docLinkHtml;\n",
              "        element.appendChild(docLink);\n",
              "      }\n",
              "    </script>\n",
              "  </div>\n",
              "\n",
              "\n",
              "<div id=\"df-e737cbda-2607-417a-b2ee-89a271cebc2b\">\n",
              "  <button class=\"colab-df-quickchart\" onclick=\"quickchart('df-e737cbda-2607-417a-b2ee-89a271cebc2b')\"\n",
              "            title=\"Suggest charts\"\n",
              "            style=\"display:none;\">\n",
              "\n",
              "<svg xmlns=\"http://www.w3.org/2000/svg\" height=\"24px\"viewBox=\"0 0 24 24\"\n",
              "     width=\"24px\">\n",
              "    <g>\n",
              "        <path d=\"M19 3H5c-1.1 0-2 .9-2 2v14c0 1.1.9 2 2 2h14c1.1 0 2-.9 2-2V5c0-1.1-.9-2-2-2zM9 17H7v-7h2v7zm4 0h-2V7h2v10zm4 0h-2v-4h2v4z\"/>\n",
              "    </g>\n",
              "</svg>\n",
              "  </button>\n",
              "\n",
              "<style>\n",
              "  .colab-df-quickchart {\n",
              "      --bg-color: #E8F0FE;\n",
              "      --fill-color: #1967D2;\n",
              "      --hover-bg-color: #E2EBFA;\n",
              "      --hover-fill-color: #174EA6;\n",
              "      --disabled-fill-color: #AAA;\n",
              "      --disabled-bg-color: #DDD;\n",
              "  }\n",
              "\n",
              "  [theme=dark] .colab-df-quickchart {\n",
              "      --bg-color: #3B4455;\n",
              "      --fill-color: #D2E3FC;\n",
              "      --hover-bg-color: #434B5C;\n",
              "      --hover-fill-color: #FFFFFF;\n",
              "      --disabled-bg-color: #3B4455;\n",
              "      --disabled-fill-color: #666;\n",
              "  }\n",
              "\n",
              "  .colab-df-quickchart {\n",
              "    background-color: var(--bg-color);\n",
              "    border: none;\n",
              "    border-radius: 50%;\n",
              "    cursor: pointer;\n",
              "    display: none;\n",
              "    fill: var(--fill-color);\n",
              "    height: 32px;\n",
              "    padding: 0;\n",
              "    width: 32px;\n",
              "  }\n",
              "\n",
              "  .colab-df-quickchart:hover {\n",
              "    background-color: var(--hover-bg-color);\n",
              "    box-shadow: 0 1px 2px rgba(60, 64, 67, 0.3), 0 1px 3px 1px rgba(60, 64, 67, 0.15);\n",
              "    fill: var(--button-hover-fill-color);\n",
              "  }\n",
              "\n",
              "  .colab-df-quickchart-complete:disabled,\n",
              "  .colab-df-quickchart-complete:disabled:hover {\n",
              "    background-color: var(--disabled-bg-color);\n",
              "    fill: var(--disabled-fill-color);\n",
              "    box-shadow: none;\n",
              "  }\n",
              "\n",
              "  .colab-df-spinner {\n",
              "    border: 2px solid var(--fill-color);\n",
              "    border-color: transparent;\n",
              "    border-bottom-color: var(--fill-color);\n",
              "    animation:\n",
              "      spin 1s steps(1) infinite;\n",
              "  }\n",
              "\n",
              "  @keyframes spin {\n",
              "    0% {\n",
              "      border-color: transparent;\n",
              "      border-bottom-color: var(--fill-color);\n",
              "      border-left-color: var(--fill-color);\n",
              "    }\n",
              "    20% {\n",
              "      border-color: transparent;\n",
              "      border-left-color: var(--fill-color);\n",
              "      border-top-color: var(--fill-color);\n",
              "    }\n",
              "    30% {\n",
              "      border-color: transparent;\n",
              "      border-left-color: var(--fill-color);\n",
              "      border-top-color: var(--fill-color);\n",
              "      border-right-color: var(--fill-color);\n",
              "    }\n",
              "    40% {\n",
              "      border-color: transparent;\n",
              "      border-right-color: var(--fill-color);\n",
              "      border-top-color: var(--fill-color);\n",
              "    }\n",
              "    60% {\n",
              "      border-color: transparent;\n",
              "      border-right-color: var(--fill-color);\n",
              "    }\n",
              "    80% {\n",
              "      border-color: transparent;\n",
              "      border-right-color: var(--fill-color);\n",
              "      border-bottom-color: var(--fill-color);\n",
              "    }\n",
              "    90% {\n",
              "      border-color: transparent;\n",
              "      border-bottom-color: var(--fill-color);\n",
              "    }\n",
              "  }\n",
              "</style>\n",
              "\n",
              "  <script>\n",
              "    async function quickchart(key) {\n",
              "      const quickchartButtonEl =\n",
              "        document.querySelector('#' + key + ' button');\n",
              "      quickchartButtonEl.disabled = true;  // To prevent multiple clicks.\n",
              "      quickchartButtonEl.classList.add('colab-df-spinner');\n",
              "      try {\n",
              "        const charts = await google.colab.kernel.invokeFunction(\n",
              "            'suggestCharts', [key], {});\n",
              "      } catch (error) {\n",
              "        console.error('Error during call to suggestCharts:', error);\n",
              "      }\n",
              "      quickchartButtonEl.classList.remove('colab-df-spinner');\n",
              "      quickchartButtonEl.classList.add('colab-df-quickchart-complete');\n",
              "    }\n",
              "    (() => {\n",
              "      let quickchartButtonEl =\n",
              "        document.querySelector('#df-e737cbda-2607-417a-b2ee-89a271cebc2b button');\n",
              "      quickchartButtonEl.style.display =\n",
              "        google.colab.kernel.accessAllowed ? 'block' : 'none';\n",
              "    })();\n",
              "  </script>\n",
              "</div>\n",
              "\n",
              "  <div id=\"id_55ee53c7-4b9e-4c53-921d-ebf5acf0b3bd\">\n",
              "    <style>\n",
              "      .colab-df-generate {\n",
              "        background-color: #E8F0FE;\n",
              "        border: none;\n",
              "        border-radius: 50%;\n",
              "        cursor: pointer;\n",
              "        display: none;\n",
              "        fill: #1967D2;\n",
              "        height: 32px;\n",
              "        padding: 0 0 0 0;\n",
              "        width: 32px;\n",
              "      }\n",
              "\n",
              "      .colab-df-generate:hover {\n",
              "        background-color: #E2EBFA;\n",
              "        box-shadow: 0px 1px 2px rgba(60, 64, 67, 0.3), 0px 1px 3px 1px rgba(60, 64, 67, 0.15);\n",
              "        fill: #174EA6;\n",
              "      }\n",
              "\n",
              "      [theme=dark] .colab-df-generate {\n",
              "        background-color: #3B4455;\n",
              "        fill: #D2E3FC;\n",
              "      }\n",
              "\n",
              "      [theme=dark] .colab-df-generate:hover {\n",
              "        background-color: #434B5C;\n",
              "        box-shadow: 0px 1px 3px 1px rgba(0, 0, 0, 0.15);\n",
              "        filter: drop-shadow(0px 1px 2px rgba(0, 0, 0, 0.3));\n",
              "        fill: #FFFFFF;\n",
              "      }\n",
              "    </style>\n",
              "    <button class=\"colab-df-generate\" onclick=\"generateWithVariable('means_tbl')\"\n",
              "            title=\"Generate code using this dataframe.\"\n",
              "            style=\"display:none;\">\n",
              "\n",
              "  <svg xmlns=\"http://www.w3.org/2000/svg\" height=\"24px\"viewBox=\"0 0 24 24\"\n",
              "       width=\"24px\">\n",
              "    <path d=\"M7,19H8.4L18.45,9,17,7.55,7,17.6ZM5,21V16.75L18.45,3.32a2,2,0,0,1,2.83,0l1.4,1.43a1.91,1.91,0,0,1,.58,1.4,1.91,1.91,0,0,1-.58,1.4L9.25,21ZM18.45,9,17,7.55Zm-12,3A5.31,5.31,0,0,0,4.9,8.1,5.31,5.31,0,0,0,1,6.5,5.31,5.31,0,0,0,4.9,4.9,5.31,5.31,0,0,0,6.5,1,5.31,5.31,0,0,0,8.1,4.9,5.31,5.31,0,0,0,12,6.5,5.46,5.46,0,0,0,6.5,12Z\"/>\n",
              "  </svg>\n",
              "    </button>\n",
              "    <script>\n",
              "      (() => {\n",
              "      const buttonEl =\n",
              "        document.querySelector('#id_55ee53c7-4b9e-4c53-921d-ebf5acf0b3bd button.colab-df-generate');\n",
              "      buttonEl.style.display =\n",
              "        google.colab.kernel.accessAllowed ? 'block' : 'none';\n",
              "\n",
              "      buttonEl.onclick = () => {\n",
              "        google.colab.notebook.generateWithVariable('means_tbl');\n",
              "      }\n",
              "      })();\n",
              "    </script>\n",
              "  </div>\n",
              "\n",
              "    </div>\n",
              "  </div>\n"
            ],
            "application/vnd.google.colaboratory.intrinsic+json": {
              "type": "dataframe",
              "variable_name": "means_tbl",
              "summary": "{\n  \"name\": \"means_tbl\",\n  \"rows\": 10000,\n  \"fields\": [\n    {\n      \"column\": \"400\",\n      \"properties\": {\n        \"dtype\": \"number\",\n        \"std\": 1.9114547897162157,\n        \"min\": 10.38,\n        \"max\": 24.125,\n        \"num_unique_values\": 3105,\n        \"samples\": [\n          20.2725,\n          17.8475,\n          16.7675\n        ],\n        \"semantic_type\": \"\",\n        \"description\": \"\"\n      }\n    },\n    {\n      \"column\": \"900\",\n      \"properties\": {\n        \"dtype\": \"number\",\n        \"std\": 1.264145519655507,\n        \"min\": 12.453333333333333,\n        \"max\": 21.563333333333333,\n        \"num_unique_values\": 4074,\n        \"samples\": [\n          17.795555555555556,\n          15.602222222222222,\n          16.86\n        ],\n        \"semantic_type\": \"\",\n        \"description\": \"\"\n      }\n    }\n  ]\n}"
            }
          },
          "metadata": {},
          "execution_count": 55
        }
      ],
      "id": "rCciVGlpMcrW"
    },
    {
      "cell_type": "code",
      "source": [
        "\n",
        "\n",
        "# Plot histograms for the '400' and '900' columns with the specified bins\n",
        "means_tbl.hist(bins= np.arange(5, 31, 0.5), figsize = (10,5))\n",
        "\n",
        "# Set the title for the plot\n",
        "#plots.title('Distribution of Sample Average')\n",
        "\n",
        "# Display the plot\n",
        "plots.show()"
      ],
      "metadata": {
        "id": "5XgDDg9bMrIk",
        "colab": {
          "base_uri": "https://localhost:8080/",
          "height": 496
        },
        "outputId": "c62a4052-49a7-406f-8ac5-5a638934cc71"
      },
      "execution_count": 57,
      "outputs": [
        {
          "output_type": "display_data",
          "data": {
            "text/plain": [
              "<Figure size 1000x500 with 2 Axes>"
            ],
            "image/png": "[encoded data removed]"
          },
          "metadata": {}
        }
      ],
      "id": "5XgDDg9bMrIk"
    },
    {
      "cell_type": "markdown",
      "source": [
        "## Quantifying the Effect of Sample Size"
      ],
      "metadata": {
        "id": "Fo-HeGVwM4zz"
      },
      "id": "Fo-HeGVwM4zz"
    },
    {
      "cell_type": "code",
      "source": [
        "\n",
        "def plot_and_summarize_sample_means(sample_size):\n",
        "    # Generate the sample means\n",
        "    sample_means = ten_thousand_sample_means(sample_size)\n",
        "\n",
        "    # Create a DataFrame for the sample means\n",
        "    sample_means_df = pd.DataFrame({'Sample Means': sample_means})\n",
        "\n",
        "    # Print some information about the distribution of the sample means\n",
        "    print(\"Sample size: \", sample_size)\n",
        "    print(\"Population mean:\", delay_mean)\n",
        "    print(\"Average of sample means: \", np.mean(sample_means))\n",
        "    print(\"\\nPopulation SD:\", delay_sd)\n",
        "    print(\"SD of sample means:\", np.std(sample_means))\n",
        "    print(\"Ratio:\", delay_sd / np.std(sample_means))\n",
        "\n",
        "    # Plot a histogram of the sample means\n",
        "    sample_means_df['Sample Means'].plot(kind='hist', bins=20, figsize=(8, 5))\n",
        "\n",
        "    # Add labels and title\n",
        "    plots.xlabel('Sample Means')\n",
        "    plots.title(f'Sample Size {sample_size}')\n",
        "\n",
        "    # Display the plot\n",
        "    plots.show()\n"
      ],
      "metadata": {
        "id": "jCtSZFH-M5U6"
      },
      "execution_count": 58,
      "outputs": [],
      "id": "jCtSZFH-M5U6"
    },
    {
      "cell_type": "code",
      "source": [
        "plot_and_summarize_sample_means(100)"
      ],
      "metadata": {
        "id": "NWtdV0uJNJT-",
        "colab": {
          "base_uri": "https://localhost:8080/",
          "height": 646
        },
        "outputId": "e19aeb8d-1863-40a1-8324-09d8fce133d5"
      },
      "execution_count": 59,
      "outputs": [
        {
          "output_type": "stream",
          "name": "stdout",
          "text": [
            "Sample size:  100\n",
            "Population mean: 16.658155515370705\n",
            "Average of sample means:  16.654381\n",
            "\n",
            "Population SD: 39.480199851609314\n",
            "SD of sample means: 3.91902707528782\n",
            "Ratio: 10.073979866217133\n"
          ]
        },
        {
          "output_type": "display_data",
          "data": {
            "text/plain": [
              "<Figure size 800x500 with 1 Axes>"
            ],
            "image/png": "[encoded data removed]"
          },
          "metadata": {}
        }
      ],
      "id": "NWtdV0uJNJT-"
    },
    {
      "cell_type": "code",
      "source": [
        "plot_and_summarize_sample_means(400)"
      ],
      "metadata": {
        "id": "c15NE-tANNcb",
        "colab": {
          "base_uri": "https://localhost:8080/",
          "height": 646
        },
        "outputId": "438ce15f-a345-4927-93d5-860bd225b619"
      },
      "execution_count": 60,
      "outputs": [
        {
          "output_type": "stream",
          "name": "stdout",
          "text": [
            "Sample size:  400\n",
            "Population mean: 16.658155515370705\n",
            "Average of sample means:  16.63840525\n",
            "\n",
            "Population SD: 39.480199851609314\n",
            "SD of sample means: 1.9316255110391967\n",
            "Ratio: 20.438847812881356\n"
          ]
        },
        {
          "output_type": "display_data",
          "data": {
            "text/plain": [
              "<Figure size 800x500 with 1 Axes>"
            ],
            "image/png": "[encoded data removed]"
          },
          "metadata": {}
        }
      ],
      "id": "c15NE-tANNcb"
    },
    {
      "cell_type": "code",
      "source": [
        "plot_and_summarize_sample_means(1000)"
      ],
      "metadata": {
        "id": "HWPNbfwkNPBu",
        "colab": {
          "base_uri": "https://localhost:8080/",
          "height": 646
        },
        "outputId": "2cd945c3-bd20-4ddc-e53f-d3ff525c160e"
      },
      "execution_count": 61,
      "outputs": [
        {
          "output_type": "stream",
          "name": "stdout",
          "text": [
            "Sample size:  1000\n",
            "Population mean: 16.658155515370705\n",
            "Average of sample means:  16.6527627\n",
            "\n",
            "Population SD: 39.480199851609314\n",
            "SD of sample means: 1.2062404556259543\n",
            "Ratio: 32.72995833249669\n"
          ]
        },
        {
          "output_type": "display_data",
          "data": {
            "text/plain": [
              "<Figure size 800x500 with 1 Axes>"
            ],
            "image/png": "[encoded data removed]"
          },
          "metadata": {}
        }
      ],
      "id": "HWPNbfwkNPBu"
    },
    {
      "cell_type": "code",
      "source": [],
      "metadata": {
        "id": "ZObMSDYBdYmV"
      },
      "id": "ZObMSDYBdYmV",
      "execution_count": null,
      "outputs": []
    }
  ],
  "metadata": {
    "anaconda-cloud": {},
    "kernelspec": {
      "display_name": "Python 3",
      "language": "python",
      "name": "python3"
    },
    "language_info": {
      "codemirror_mode": {
        "name": "ipython",
        "version": 3
      },
      "file_extension": ".py",
      "mimetype": "text/x-python",
      "name": "python",
      "nbconvert_exporter": "python",
      "pygments_lexer": "ipython3",
      "version": "3.10.12"
    },
    "colab": {
      "provenance": []
    }
  },
  "nbformat": 4,
  "nbformat_minor": 5
}